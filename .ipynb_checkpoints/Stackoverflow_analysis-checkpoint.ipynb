{
 "cells": [
  {
   "cell_type": "code",
   "execution_count": null,
   "metadata": {},
   "outputs": [],
   "source": [
    "import pandas as pd\n",
    "import numpy as np\n",
    "import matplotlib.pyplot as plt\n",
    "import seaborn as sns\n",
    "from collections import defaultdict"
   ]
  },
  {
   "cell_type": "code",
   "execution_count": null,
   "metadata": {},
   "outputs": [],
   "source": [
    "def create_year_dataframe(year):\n",
    "    df = pd.read_csv(\"survey_results_public_\" + str(year) + \".csv\", low_memory=False)\n",
    "    return df"
   ]
  },
  {
   "cell_type": "code",
   "execution_count": null,
   "metadata": {},
   "outputs": [],
   "source": [
    "years_data = [2015, 2016, 2017, 2018, 2019]"
   ]
  },
  {
   "cell_type": "code",
   "execution_count": null,
   "metadata": {},
   "outputs": [],
   "source": [
    "def create_all_dataframes(all_years):\n",
    "    dict_df = {}\n",
    "    for year in years_data:\n",
    "        dict_df[year] = create_year_dataframe(year)\n",
    "    return dict_df"
   ]
  },
  {
   "cell_type": "code",
   "execution_count": null,
   "metadata": {},
   "outputs": [],
   "source": [
    "all_years = create_all_dataframes(years_data)"
   ]
  },
  {
   "cell_type": "code",
   "execution_count": null,
   "metadata": {},
   "outputs": [],
   "source": [
    "#cleaning 2015 headers\n",
    "columns_2015 = all_years[2015].iloc[0]\n",
    "all_years[2015] = all_years[2015][1:]\n",
    "all_years[2015].columns = columns_2015"
   ]
  },
  {
   "cell_type": "code",
   "execution_count": null,
   "metadata": {},
   "outputs": [],
   "source": [
    "def segment_by_column_and_value(df, column, value):\n",
    "    return df[df[column]==value]"
   ]
  },
  {
   "cell_type": "code",
   "execution_count": null,
   "metadata": {},
   "outputs": [],
   "source": [
    "all_years[2016].rename(columns={\"country\":\"Country\"}, inplace=True)"
   ]
  },
  {
   "cell_type": "code",
   "execution_count": null,
   "metadata": {},
   "outputs": [],
   "source": [
    "def create_column_df(df_dict, column, value):\n",
    "    dictionary = {}\n",
    "    for key in df_dict:\n",
    "        dictionary[key] = segment_by_column_and_value(df_dict[key], column, value)\n",
    "    return dictionary"
   ]
  },
  {
   "cell_type": "code",
   "execution_count": null,
   "metadata": {},
   "outputs": [],
   "source": [
    "united_states = create_column_df(all_years, \"Country\", \"United States\")"
   ]
  },
  {
   "cell_type": "markdown",
   "metadata": {},
   "source": [
    "<H2> Question 1: How has the survey changed over the year <h2>"
   ]
  },
  {
   "cell_type": "code",
   "execution_count": null,
   "metadata": {},
   "outputs": [],
   "source": [
    "def get_yearly_shape(dictionary, year):\n",
    "    return dictionary[year].shape[0], dictionary[year].shape[1]"
   ]
  },
  {
   "cell_type": "code",
   "execution_count": null,
   "metadata": {},
   "outputs": [],
   "source": [
    "get_yearly_shape(all_years, 2019)"
   ]
  },
  {
   "cell_type": "markdown",
   "metadata": {},
   "source": [
    "<H2> Question 2: How have the most common occupations changed in the United States over the last 3 years <h2>"
   ]
  },
  {
   "cell_type": "code",
   "execution_count": null,
   "metadata": {},
   "outputs": [],
   "source": [
    "def segment_by_column_and_value(df, column, value):\n",
    "    return df[df[column]==value]"
   ]
  },
  {
   "cell_type": "code",
   "execution_count": null,
   "metadata": {},
   "outputs": [],
   "source": [
    "def create_value_df(df, year, column, column_name):\n",
    "    new_df = pd.DataFrame(df[year][column].value_counts()).reset_index()\n",
    "    new_df.columns=[column_name, \"Count\"]\n",
    "    new_df[\"Percentage\"] = new_df[\"Count\"]/sum(new_df[\"Count\"])\n",
    "    new_df = new_df.replace(\"(?i).*mobile.*\", \"Mobile\", regex=True)\n",
    "    new_df = new_df.groupby(\"DeveloperType\", as_index=False).sum()\n",
    "    new_df[\"Year\"] = year\n",
    "    new_df.sort_values(\"Percentage\", ascending=False, inplace=True)\n",
    "    return new_df"
   ]
  },
  {
   "cell_type": "code",
   "execution_count": null,
   "metadata": {},
   "outputs": [],
   "source": [
    "def split_words(df, year, column, column_name):\n",
    "    all_the_words = defaultdict(int) \n",
    "    for row in df[year][column]:\n",
    "        if isinstance(row, float):\n",
    "            all_the_words[row] += 1\n",
    "        else:\n",
    "            for word in row.split(\";\"):\n",
    "                all_the_words[word.strip()] += 1\n",
    "    new_df = pd.DataFrame(pd.Series(all_the_words)).reset_index()\n",
    "    new_df.columns = [column_name, \"Count\"]\n",
    "    new_df[\"Percentage\"] = new_df[\"Count\"] / sum(new_df[\"Count\"])\n",
    "    new_df[\"Year\"] = year\n",
    "    new_df.sort_values('Percentage', ascending=False, inplace=True)\n",
    "    return new_df"
   ]
  },
  {
   "cell_type": "code",
   "execution_count": null,
   "metadata": {},
   "outputs": [],
   "source": [
    "occupation_2015 = create_value_df(united_states, 2015, \"Occupation\", \"DeveloperType\")\n",
    "occupation_2016 = create_value_df(united_states, 2016, \"occupation\", \"DeveloperType\")\n",
    "#occupation_2017 = split_words(all_years, 2017, \"DeveloperType\", \"DeveloperType\")\n",
    "occupation_2018 = split_words(united_states, 2018, \"DevType\", \"DeveloperType\")\n",
    "occupation_2019 = split_words(united_states, 2019, \"DevType\", \"DeveloperType\")"
   ]
  },
  {
   "cell_type": "code",
   "execution_count": null,
   "metadata": {},
   "outputs": [],
   "source": [
    "occupation_df = occupation_2015.append(occupation_2016).append(occupation_2018).append(occupation_2019)"
   ]
  },
  {
   "cell_type": "code",
   "execution_count": null,
   "metadata": {},
   "outputs": [],
   "source": [
    "def standardize_developer_types(df, regexes, words):\n",
    "    new_df = df.replace(regexes, words, regex=True)\n",
    "    return new_df"
   ]
  },
  {
   "cell_type": "code",
   "execution_count": null,
   "metadata": {},
   "outputs": [],
   "source": [
    "regexes = [\"(?i).*full-stack.*\", \"(?i).*back-end.*\", \"(?i).*front-end.*\", \"(?i).*embedded.*\", \"(?i).*desktop.*\", \"(?i).*executive.*\", \"(?i).*devops.*\", \"(?i).*mobile.*\" ] "
   ]
  },
  {
   "cell_type": "code",
   "execution_count": null,
   "metadata": {},
   "outputs": [],
   "source": [
    "words = [\"Full-stack\", \"Back-end\", \"Front-end\", \"Embedded\", \"Desktop\", \"Executive\", \"DevOps\", \"Mobile\"]"
   ]
  },
  {
   "cell_type": "code",
   "execution_count": null,
   "metadata": {},
   "outputs": [],
   "source": [
    "standardized_data_df = standardize_developer_types(occupation_df, regexes, words)"
   ]
  },
  {
   "cell_type": "code",
   "execution_count": null,
   "metadata": {},
   "outputs": [],
   "source": [
    "developer_types = [\"Full-stack\", \"Front-end\", \"Back-end\", \"Mobile\", \"Student\", \"Desktop\"]"
   ]
  },
  {
   "cell_type": "code",
   "execution_count": null,
   "metadata": {},
   "outputs": [],
   "source": [
    "graph_data = standardized_data_df[standardized_data_df[\"DeveloperType\"].isin(developer_types)]"
   ]
  },
  {
   "cell_type": "code",
   "execution_count": null,
   "metadata": {},
   "outputs": [],
   "source": [
    "sns.barplot(x=\"DeveloperType\", y=\"Percentage\", hue=\"Year\", data=graph_data)"
   ]
  },
  {
   "cell_type": "code",
   "execution_count": null,
   "metadata": {},
   "outputs": [],
   "source": [
    "test = standardize_developer_types(united_states[2019], regexes, words)"
   ]
  },
  {
   "cell_type": "code",
   "execution_count": null,
   "metadata": {},
   "outputs": [],
   "source": [
    "test"
   ]
  },
  {
   "cell_type": "code",
   "execution_count": null,
   "metadata": {},
   "outputs": [],
   "source": []
  }
 ],
 "metadata": {
  "kernelspec": {
   "display_name": "Python 3",
   "language": "python",
   "name": "python3"
  },
  "language_info": {
   "codemirror_mode": {
    "name": "ipython",
    "version": 3
   },
   "file_extension": ".py",
   "mimetype": "text/x-python",
   "name": "python",
   "nbconvert_exporter": "python",
   "pygments_lexer": "ipython3",
   "version": "3.7.7"
  }
 },
 "nbformat": 4,
 "nbformat_minor": 4
}
