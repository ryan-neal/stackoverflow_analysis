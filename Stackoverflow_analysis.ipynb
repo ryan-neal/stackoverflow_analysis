{
 "cells": [
  {
   "cell_type": "code",
   "execution_count": 96,
   "metadata": {},
   "outputs": [],
   "source": [
    "import pandas as pd\n",
    "import numpy as np\n",
    "import matplotlib.pyplot as plt\n",
    "import seaborn as sns\n",
    "from sklearn.linear_model import LinearRegression\n",
    "from sklearn.model_selection import train_test_split\n",
    "from sklearn.metrics import r2_score, mean_squared_error\n",
    "from collections import defaultdict\n",
    "sns.set(rc={'figure.figsize':(11.7,8.27)})"
   ]
  },
  {
   "cell_type": "code",
   "execution_count": 97,
   "metadata": {},
   "outputs": [],
   "source": [
    "# This function assumes you have all stack overflow data saved locally in the following format survey_results_public_year.csv\n",
    "def create_year_dataframe(year):\n",
    "    \n",
    "    '''\n",
    "    INPUT:\n",
    "    year - an integer. The year you would like to analyze\n",
    "    \n",
    "    OUTPUT:\n",
    "    df - a dataframe of survey results for that year\n",
    "    '''\n",
    "    \n",
    "    df = pd.read_csv(\"survey_results_public_\" + str(year) + \".csv\", low_memory=False)\n",
    "    return df"
   ]
  },
  {
   "cell_type": "code",
   "execution_count": 98,
   "metadata": {},
   "outputs": [],
   "source": [
    "years_data = [2015, 2016, 2017, 2018, 2019]"
   ]
  },
  {
   "cell_type": "code",
   "execution_count": 99,
   "metadata": {},
   "outputs": [],
   "source": [
    "def create_all_dataframes(all_years):\n",
    "    \n",
    "    '''\n",
    "    INPUT:\n",
    "    years - A list of all the years you would like to analyze\n",
    "    \n",
    "    OUTPUT:\n",
    "    dict_df - a dictionary where the year is the key and a dataframe is the value\n",
    "    '''\n",
    "    dict_df = {}\n",
    "    for year in years_data:\n",
    "        dict_df[year] = create_year_dataframe(year)\n",
    "    return dict_df"
   ]
  },
  {
   "cell_type": "code",
   "execution_count": 100,
   "metadata": {},
   "outputs": [],
   "source": [
    "# I'm creating a dictionary with stackoverflow dataframes from 2015-2019\n",
    "all_years = create_all_dataframes(years_data)"
   ]
  },
  {
   "cell_type": "code",
   "execution_count": 101,
   "metadata": {},
   "outputs": [],
   "source": [
    "#cleaning 2015 headers\n",
    "columns_2015 = all_years[2015].iloc[0]\n",
    "all_years[2015] = all_years[2015][1:]\n",
    "all_years[2015].columns = columns_2015"
   ]
  },
  {
   "cell_type": "code",
   "execution_count": 102,
   "metadata": {},
   "outputs": [],
   "source": [
    "def segment_by_column_equal_to_value(df, column, value):\n",
    "    '''\n",
    "    INPUT:\n",
    "    df - A data frame you want to split\n",
    "    column - a column you would like to segment by\n",
    "    value - The value you want to use to group the data\n",
    "    \n",
    "    OUTPUT:\n",
    "    df - a new dataframe that only contains the values you want in your column \n",
    "    '''\n",
    "    return df[df[column]==value]"
   ]
  },
  {
   "cell_type": "code",
   "execution_count": 103,
   "metadata": {},
   "outputs": [],
   "source": [
    "# I'm renaming the 2016 column country to Country, so all data is consistent\n",
    "all_years[2016].rename(columns={\"country\":\"Country\"}, inplace=True)"
   ]
  },
  {
   "cell_type": "code",
   "execution_count": 104,
   "metadata": {},
   "outputs": [],
   "source": [
    "def segment_dict_by_column_equal_to_value(df_dict, column, value):\n",
    "    '''\n",
    "    INPUT:\n",
    "    df_dict - A dictionary of dataframes you want to split\n",
    "    column - a column you would like to segment by\n",
    "    value - The value you want to use to group the data\n",
    "    \n",
    "    OUTPUT:\n",
    "    dictionary - a new dictionary that contains only the values you want in your column for each year\n",
    "    '''\n",
    "    dictionary = {}\n",
    "    for key in df_dict:\n",
    "        dictionary[key] = segment_by_column_equal_to_value(df_dict[key], column, value)\n",
    "    return dictionary"
   ]
  },
  {
   "cell_type": "code",
   "execution_count": 105,
   "metadata": {},
   "outputs": [],
   "source": [
    "# Get united states data for all years\n",
    "united_states = segment_dict_by_column_equal_to_value(all_years, \"Country\", \"United States\")"
   ]
  },
  {
   "cell_type": "markdown",
   "metadata": {},
   "source": [
    "<H2> Question 1: How has the survey changed over the years? </h2>"
   ]
  },
  {
   "cell_type": "code",
   "execution_count": 106,
   "metadata": {},
   "outputs": [],
   "source": [
    "def get_yearly_shape(dictionary, year):\n",
    "    '''\n",
    "    INPUT:\n",
    "    dictionary - A dictionary with year keys and dataframe values\n",
    "    year - the year you want to analyze\n",
    "    \n",
    "    OUTPUT:\n",
    "    The amount of respondents and questions for that year\n",
    "    '''\n",
    "    return dictionary[year].shape[0], dictionary[year].shape[1]"
   ]
  },
  {
   "cell_type": "code",
   "execution_count": 107,
   "metadata": {},
   "outputs": [],
   "source": [
    "def get_all_shapes(dictionary, years):\n",
    "    '''\n",
    "    INPUT:\n",
    "    dictionary - A dictionary with year keys and dataframe values\n",
    "    years - All the years you want to analyze\n",
    "    \n",
    "    OUTPUT:\n",
    "    df - A dataframe with the amount of respondents and questions for each year\n",
    "    '''\n",
    "    rows = []\n",
    "    columns = []\n",
    "    for year in years:\n",
    "        rows.append(get_yearly_shape(dictionary, year)[0])\n",
    "        columns.append(get_yearly_shape(dictionary, year)[1])\n",
    "    df = pd.DataFrame(list(zip(rows, columns, years)), columns=[\"NumberOfRespondents\", \"NumberOfQuestions\", \"Year\"])\n",
    "    return df\n",
    "        "
   ]
  },
  {
   "cell_type": "code",
   "execution_count": 108,
   "metadata": {},
   "outputs": [],
   "source": [
    "# I get the shape for each year from 2015 - 2019\n",
    "yearly_shapes = get_all_shapes(united_states, [2015, 2016, 2017, 2018, 2019])"
   ]
  },
  {
   "cell_type": "code",
   "execution_count": 109,
   "metadata": {
    "scrolled": true
   },
   "outputs": [
    {
     "data": {
      "image/png": "[encoded data removed]",
      "text/plain": [
       "<Figure size 842.4x595.44 with 2 Axes>"
      ]
     },
     "metadata": {},
     "output_type": "display_data"
    }
   ],
   "source": [
    "# A line graph of questions and respondents over time. It looks likes questions and respondents are inversely correlated. \n",
    "\n",
    "ax = yearly_shapes.plot(x=\"Year\", y=\"NumberOfQuestions\", legend=False)\n",
    "ax2 = ax.twinx()\n",
    "yearly_shapes.plot(x=\"Year\", y=\"NumberOfRespondents\", ax=ax2, legend=False, color=\"r\")\n",
    "ax.figure.legend()\n",
    "plt.show()"
   ]
  },
  {
   "cell_type": "markdown",
   "metadata": {},
   "source": [
    "<H2> Question 2: How have the most common occupations changed in the United States over the last 3 years </h2>"
   ]
  },
  {
   "cell_type": "code",
   "execution_count": 110,
   "metadata": {},
   "outputs": [
    {
     "data": {
      "text/plain": [
       "array(['Back-end web developer',\n",
       "       'Business intelligence or data warehousing expert',\n",
       "       'Data scientist', 'Database administrator', 'Designer',\n",
       "       'Desktop developer',\n",
       "       'Developer with a statistics or mathematics background', 'DevOps',\n",
       "       'Embedded application developer',\n",
       "       'Enterprise level services developer',\n",
       "       'Executive (VP of Eng., CTO, CIO, etc.)',\n",
       "       'Front-end web developer', 'Full-stack web developer',\n",
       "       'Graphics programmer', 'Growth hacker',\n",
       "       'Machine learning developer', 'Mobile developer',\n",
       "       'Mobile developer - Android', 'Mobile developer - iOS',\n",
       "       'Mobile developer - Windows Phone', 'Product manager',\n",
       "       'Quality Assurance', 'Student', 'System administrator', nan],\n",
       "      dtype=object)"
      ]
     },
     "execution_count": 110,
     "metadata": {},
     "output_type": "execute_result"
    }
   ],
   "source": [
    "united_states[2015][\"Occupation\"].unique()"
   ]
  },
  {
   "cell_type": "code",
   "execution_count": 111,
   "metadata": {},
   "outputs": [
    {
     "data": {
      "text/plain": [
       "array([nan, 'DevOps', 'Full-stack web developer', 'Desktop developer',\n",
       "       'Mobile developer - iOS', 'Student', 'Front-end web developer',\n",
       "       'Quality Assurance', 'other', 'Machine learning developer',\n",
       "       'Engineering manager', 'Back-end web developer',\n",
       "       'System administrator', 'Data scientist', 'Mobile developer',\n",
       "       'Mobile developer - Android',\n",
       "       'Executive (VP of Eng., CTO, CIO, etc.)', 'Analyst',\n",
       "       'Embedded application developer',\n",
       "       'Business intelligence or data warehousing expert',\n",
       "       'Enterprise level services developer', 'Database administrator',\n",
       "       'Developer with a statistics or mathematics background',\n",
       "       'Designer', 'Growth hacker', 'Graphics programmer',\n",
       "       'Product manager', 'Mobile developer - Windows Phone'],\n",
       "      dtype=object)"
      ]
     },
     "execution_count": 111,
     "metadata": {},
     "output_type": "execute_result"
    }
   ],
   "source": [
    "united_states[2016][\"occupation\"].unique()"
   ]
  },
  {
   "cell_type": "code",
   "execution_count": 112,
   "metadata": {},
   "outputs": [],
   "source": [
    "#united_states[2017][\"DeveloperType\"].unique()"
   ]
  },
  {
   "cell_type": "code",
   "execution_count": 113,
   "metadata": {},
   "outputs": [
    {
     "data": {
      "text/plain": [
       "array(['Engineering manager;Full-stack developer', 'Full-stack developer',\n",
       "       'Back-end developer;Front-end developer;Full-stack developer', ...,\n",
       "       'Embedded applications or devices developer;Full-stack developer;Student',\n",
       "       'Back-end developer;Designer;Engineering manager;Mobile developer;Student',\n",
       "       'Desktop or enterprise applications developer;Embedded applications or devices developer;Game or graphics developer;Student'],\n",
       "      dtype=object)"
      ]
     },
     "execution_count": 113,
     "metadata": {},
     "output_type": "execute_result"
    }
   ],
   "source": [
    "united_states[2018][\"DevType\"].unique()"
   ]
  },
  {
   "cell_type": "markdown",
   "metadata": {},
   "source": [
    "<p>From 2015 to 2019, StackOverflow changed the name of the occupation column. We will standardize the column.</p>\n",
    "<p>You might also notice starting in 2017 respondents can submit multiple answers. </p>\n",
    "<p>We will split semi-colon results, and standardize respondents across years with a regex </p>"
   ]
  },
  {
   "cell_type": "code",
   "execution_count": 114,
   "metadata": {},
   "outputs": [],
   "source": [
    "#I used this function for 2015 and 2016\n",
    "\n",
    "def create_value_df(dictionary, year, column_name, new_column_name):\n",
    "    '''\n",
    "    INPUT:\n",
    "    dictionary - A dictionary with year keys and dataframe values\n",
    "    year - The year you want to analyze\n",
    "    column_name - The column you want analyze\n",
    "    new_column_name - This name replaces the old column, so you can standardize names\n",
    "    \n",
    "    OUTPUT:\n",
    "    new_df - A dataframe with four columns - Developer Type, Respondent count, Percentage, and Year\n",
    "    '''\n",
    "    \n",
    "    new_df = pd.DataFrame(dictionary[year][column_name].value_counts()).reset_index()\n",
    "    new_df.columns=[new_column_name, \"Count\"]\n",
    "    new_df[\"Percentage\"] = new_df[\"Count\"]/sum(new_df[\"Count\"])\n",
    "    new_df = new_df.groupby(new_column_name, as_index=False).sum()\n",
    "    new_df[\"Year\"] = year\n",
    "    new_df.sort_values(\"Percentage\", ascending=False, inplace=True)\n",
    "    return new_df"
   ]
  },
  {
   "cell_type": "code",
   "execution_count": 115,
   "metadata": {},
   "outputs": [],
   "source": [
    "# Starting in 2017, we have to split semicolons\n",
    "def split_words(dictionary, year, column_name, new_column_name):\n",
    "    '''\n",
    "    INPUT:\n",
    "    dictionary - A dictionary with year keys and dataframe values\n",
    "    year - The year you want to analyze\n",
    "    column_name - The column you want analyze\n",
    "    new_column_name - This name replaces the old column, so you can standardize names\n",
    "    \n",
    "    OUTPUT:\n",
    "    new_df - A dataframe with four columns - Developer Type, Respondent count, Percentage, and Year\n",
    "    '''\n",
    "    all_the_words = defaultdict(int)\n",
    "    for row in dictionary[year][column_name]:\n",
    "        if isinstance(row, float):\n",
    "            all_the_words[row] += 1\n",
    "        else:\n",
    "            for word in row.split(\";\"):\n",
    "                all_the_words[word.strip()] += 1\n",
    "    new_df = pd.DataFrame(pd.Series(all_the_words)).reset_index()\n",
    "    new_df.columns = [new_column_name, \"Count\"]\n",
    "    new_df[\"Percentage\"] = new_df[\"Count\"] / sum(new_df[\"Count\"])\n",
    "    new_df[\"Year\"] = year\n",
    "    new_df.sort_values('Percentage', ascending=False, inplace=True)\n",
    "    return new_df"
   ]
  },
  {
   "cell_type": "code",
   "execution_count": 116,
   "metadata": {},
   "outputs": [],
   "source": [
    "#Creating individual dataframes. I removed 2017 from the results.\n",
    "#StackOverflow changed how occupation options that year and reverted back in 2018\n",
    "\n",
    "occupation_2015 = create_value_df(united_states, 2015, \"Occupation\", \"DeveloperType\")\n",
    "occupation_2016 = create_value_df(united_states, 2016, \"occupation\", \"DeveloperType\")\n",
    "#occupation_2017 = split_words(all_years, 2017, \"DeveloperType\", \"DeveloperType\")\n",
    "occupation_2018 = split_words(united_states, 2018, \"DevType\", \"DeveloperType\")\n",
    "occupation_2019 = split_words(united_states, 2019, \"DevType\", \"DeveloperType\")"
   ]
  },
  {
   "cell_type": "code",
   "execution_count": 117,
   "metadata": {},
   "outputs": [
    {
     "data": {
      "text/html": [
       "<div>\n",
       "<style scoped>\n",
       "    .dataframe tbody tr th:only-of-type {\n",
       "        vertical-align: middle;\n",
       "    }\n",
       "\n",
       "    .dataframe tbody tr th {\n",
       "        vertical-align: top;\n",
       "    }\n",
       "\n",
       "    .dataframe thead th {\n",
       "        text-align: right;\n",
       "    }\n",
       "</style>\n",
       "<table border=\"1\" class=\"dataframe\">\n",
       "  <thead>\n",
       "    <tr style=\"text-align: right;\">\n",
       "      <th></th>\n",
       "      <th>DeveloperType</th>\n",
       "      <th>Count</th>\n",
       "      <th>Percentage</th>\n",
       "      <th>Year</th>\n",
       "    </tr>\n",
       "  </thead>\n",
       "  <tbody>\n",
       "    <tr>\n",
       "      <th>12</th>\n",
       "      <td>Full-stack web developer</td>\n",
       "      <td>1371</td>\n",
       "      <td>0.344992</td>\n",
       "      <td>2015</td>\n",
       "    </tr>\n",
       "    <tr>\n",
       "      <th>22</th>\n",
       "      <td>Student</td>\n",
       "      <td>516</td>\n",
       "      <td>0.129844</td>\n",
       "      <td>2015</td>\n",
       "    </tr>\n",
       "    <tr>\n",
       "      <th>5</th>\n",
       "      <td>Desktop developer</td>\n",
       "      <td>326</td>\n",
       "      <td>0.082033</td>\n",
       "      <td>2015</td>\n",
       "    </tr>\n",
       "    <tr>\n",
       "      <th>0</th>\n",
       "      <td>Back-end web developer</td>\n",
       "      <td>310</td>\n",
       "      <td>0.078007</td>\n",
       "      <td>2015</td>\n",
       "    </tr>\n",
       "    <tr>\n",
       "      <th>11</th>\n",
       "      <td>Front-end web developer</td>\n",
       "      <td>216</td>\n",
       "      <td>0.054353</td>\n",
       "      <td>2015</td>\n",
       "    </tr>\n",
       "    <tr>\n",
       "      <th>9</th>\n",
       "      <td>Enterprise level services developer</td>\n",
       "      <td>136</td>\n",
       "      <td>0.034222</td>\n",
       "      <td>2015</td>\n",
       "    </tr>\n",
       "    <tr>\n",
       "      <th>19</th>\n",
       "      <td>Mobile developer - iOS</td>\n",
       "      <td>130</td>\n",
       "      <td>0.032713</td>\n",
       "      <td>2015</td>\n",
       "    </tr>\n",
       "    <tr>\n",
       "      <th>8</th>\n",
       "      <td>Embedded application developer</td>\n",
       "      <td>121</td>\n",
       "      <td>0.030448</td>\n",
       "      <td>2015</td>\n",
       "    </tr>\n",
       "    <tr>\n",
       "      <th>2</th>\n",
       "      <td>Data scientist</td>\n",
       "      <td>106</td>\n",
       "      <td>0.026673</td>\n",
       "      <td>2015</td>\n",
       "    </tr>\n",
       "    <tr>\n",
       "      <th>7</th>\n",
       "      <td>Developer with a statistics or mathematics bac...</td>\n",
       "      <td>105</td>\n",
       "      <td>0.026422</td>\n",
       "      <td>2015</td>\n",
       "    </tr>\n",
       "    <tr>\n",
       "      <th>10</th>\n",
       "      <td>Executive (VP of Eng., CTO, CIO, etc.)</td>\n",
       "      <td>98</td>\n",
       "      <td>0.024660</td>\n",
       "      <td>2015</td>\n",
       "    </tr>\n",
       "    <tr>\n",
       "      <th>17</th>\n",
       "      <td>Mobile developer - Android</td>\n",
       "      <td>86</td>\n",
       "      <td>0.021641</td>\n",
       "      <td>2015</td>\n",
       "    </tr>\n",
       "    <tr>\n",
       "      <th>23</th>\n",
       "      <td>System administrator</td>\n",
       "      <td>80</td>\n",
       "      <td>0.020131</td>\n",
       "      <td>2015</td>\n",
       "    </tr>\n",
       "    <tr>\n",
       "      <th>6</th>\n",
       "      <td>DevOps</td>\n",
       "      <td>71</td>\n",
       "      <td>0.017866</td>\n",
       "      <td>2015</td>\n",
       "    </tr>\n",
       "    <tr>\n",
       "      <th>16</th>\n",
       "      <td>Mobile developer</td>\n",
       "      <td>58</td>\n",
       "      <td>0.014595</td>\n",
       "      <td>2015</td>\n",
       "    </tr>\n",
       "    <tr>\n",
       "      <th>21</th>\n",
       "      <td>Quality Assurance</td>\n",
       "      <td>45</td>\n",
       "      <td>0.011324</td>\n",
       "      <td>2015</td>\n",
       "    </tr>\n",
       "    <tr>\n",
       "      <th>1</th>\n",
       "      <td>Business intelligence or data warehousing expert</td>\n",
       "      <td>43</td>\n",
       "      <td>0.010820</td>\n",
       "      <td>2015</td>\n",
       "    </tr>\n",
       "    <tr>\n",
       "      <th>20</th>\n",
       "      <td>Product manager</td>\n",
       "      <td>36</td>\n",
       "      <td>0.009059</td>\n",
       "      <td>2015</td>\n",
       "    </tr>\n",
       "    <tr>\n",
       "      <th>3</th>\n",
       "      <td>Database administrator</td>\n",
       "      <td>34</td>\n",
       "      <td>0.008556</td>\n",
       "      <td>2015</td>\n",
       "    </tr>\n",
       "    <tr>\n",
       "      <th>13</th>\n",
       "      <td>Graphics programmer</td>\n",
       "      <td>29</td>\n",
       "      <td>0.007297</td>\n",
       "      <td>2015</td>\n",
       "    </tr>\n",
       "    <tr>\n",
       "      <th>15</th>\n",
       "      <td>Machine learning developer</td>\n",
       "      <td>23</td>\n",
       "      <td>0.005788</td>\n",
       "      <td>2015</td>\n",
       "    </tr>\n",
       "    <tr>\n",
       "      <th>4</th>\n",
       "      <td>Designer</td>\n",
       "      <td>21</td>\n",
       "      <td>0.005284</td>\n",
       "      <td>2015</td>\n",
       "    </tr>\n",
       "    <tr>\n",
       "      <th>14</th>\n",
       "      <td>Growth hacker</td>\n",
       "      <td>10</td>\n",
       "      <td>0.002516</td>\n",
       "      <td>2015</td>\n",
       "    </tr>\n",
       "    <tr>\n",
       "      <th>18</th>\n",
       "      <td>Mobile developer - Windows Phone</td>\n",
       "      <td>3</td>\n",
       "      <td>0.000755</td>\n",
       "      <td>2015</td>\n",
       "    </tr>\n",
       "  </tbody>\n",
       "</table>\n",
       "</div>"
      ],
      "text/plain": [
       "                                        DeveloperType  Count  Percentage  Year\n",
       "12                           Full-stack web developer   1371    0.344992  2015\n",
       "22                                            Student    516    0.129844  2015\n",
       "5                                   Desktop developer    326    0.082033  2015\n",
       "0                              Back-end web developer    310    0.078007  2015\n",
       "11                            Front-end web developer    216    0.054353  2015\n",
       "9                 Enterprise level services developer    136    0.034222  2015\n",
       "19                             Mobile developer - iOS    130    0.032713  2015\n",
       "8                      Embedded application developer    121    0.030448  2015\n",
       "2                                      Data scientist    106    0.026673  2015\n",
       "7   Developer with a statistics or mathematics bac...    105    0.026422  2015\n",
       "10             Executive (VP of Eng., CTO, CIO, etc.)     98    0.024660  2015\n",
       "17                         Mobile developer - Android     86    0.021641  2015\n",
       "23                               System administrator     80    0.020131  2015\n",
       "6                                              DevOps     71    0.017866  2015\n",
       "16                                   Mobile developer     58    0.014595  2015\n",
       "21                                  Quality Assurance     45    0.011324  2015\n",
       "1    Business intelligence or data warehousing expert     43    0.010820  2015\n",
       "20                                    Product manager     36    0.009059  2015\n",
       "3                              Database administrator     34    0.008556  2015\n",
       "13                                Graphics programmer     29    0.007297  2015\n",
       "15                         Machine learning developer     23    0.005788  2015\n",
       "4                                            Designer     21    0.005284  2015\n",
       "14                                      Growth hacker     10    0.002516  2015\n",
       "18                   Mobile developer - Windows Phone      3    0.000755  2015"
      ]
     },
     "execution_count": 117,
     "metadata": {},
     "output_type": "execute_result"
    }
   ],
   "source": [
    "occupation_2015"
   ]
  },
  {
   "cell_type": "code",
   "execution_count": 118,
   "metadata": {},
   "outputs": [
    {
     "data": {
      "text/html": [
       "<div>\n",
       "<style scoped>\n",
       "    .dataframe tbody tr th:only-of-type {\n",
       "        vertical-align: middle;\n",
       "    }\n",
       "\n",
       "    .dataframe tbody tr th {\n",
       "        vertical-align: top;\n",
       "    }\n",
       "\n",
       "    .dataframe thead th {\n",
       "        text-align: right;\n",
       "    }\n",
       "</style>\n",
       "<table border=\"1\" class=\"dataframe\">\n",
       "  <thead>\n",
       "    <tr style=\"text-align: right;\">\n",
       "      <th></th>\n",
       "      <th>DeveloperType</th>\n",
       "      <th>Count</th>\n",
       "      <th>Percentage</th>\n",
       "      <th>Year</th>\n",
       "    </tr>\n",
       "  </thead>\n",
       "  <tbody>\n",
       "    <tr>\n",
       "      <th>0</th>\n",
       "      <td>Developer, full-stack</td>\n",
       "      <td>10628</td>\n",
       "      <td>0.172976</td>\n",
       "      <td>2019</td>\n",
       "    </tr>\n",
       "    <tr>\n",
       "      <th>3</th>\n",
       "      <td>Developer, back-end</td>\n",
       "      <td>8885</td>\n",
       "      <td>0.144608</td>\n",
       "      <td>2019</td>\n",
       "    </tr>\n",
       "    <tr>\n",
       "      <th>5</th>\n",
       "      <td>Developer, front-end</td>\n",
       "      <td>6103</td>\n",
       "      <td>0.099329</td>\n",
       "      <td>2019</td>\n",
       "    </tr>\n",
       "    <tr>\n",
       "      <th>4</th>\n",
       "      <td>Developer, desktop or enterprise applications</td>\n",
       "      <td>3989</td>\n",
       "      <td>0.064923</td>\n",
       "      <td>2019</td>\n",
       "    </tr>\n",
       "    <tr>\n",
       "      <th>6</th>\n",
       "      <td>Developer, mobile</td>\n",
       "      <td>2631</td>\n",
       "      <td>0.042821</td>\n",
       "      <td>2019</td>\n",
       "    </tr>\n",
       "    <tr>\n",
       "      <th>2</th>\n",
       "      <td>Database administrator</td>\n",
       "      <td>2352</td>\n",
       "      <td>0.038280</td>\n",
       "      <td>2019</td>\n",
       "    </tr>\n",
       "    <tr>\n",
       "      <th>7</th>\n",
       "      <td>DevOps specialist</td>\n",
       "      <td>2337</td>\n",
       "      <td>0.038036</td>\n",
       "      <td>2019</td>\n",
       "    </tr>\n",
       "    <tr>\n",
       "      <th>13</th>\n",
       "      <td>Designer</td>\n",
       "      <td>2313</td>\n",
       "      <td>0.037645</td>\n",
       "      <td>2019</td>\n",
       "    </tr>\n",
       "    <tr>\n",
       "      <th>12</th>\n",
       "      <td>System administrator</td>\n",
       "      <td>2227</td>\n",
       "      <td>0.036246</td>\n",
       "      <td>2019</td>\n",
       "    </tr>\n",
       "    <tr>\n",
       "      <th>18</th>\n",
       "      <td>Student</td>\n",
       "      <td>2037</td>\n",
       "      <td>0.033153</td>\n",
       "      <td>2019</td>\n",
       "    </tr>\n",
       "    <tr>\n",
       "      <th>1</th>\n",
       "      <td>Data or business analyst</td>\n",
       "      <td>1751</td>\n",
       "      <td>0.028498</td>\n",
       "      <td>2019</td>\n",
       "    </tr>\n",
       "    <tr>\n",
       "      <th>20</th>\n",
       "      <td>Data scientist or machine learning specialist</td>\n",
       "      <td>1687</td>\n",
       "      <td>0.027457</td>\n",
       "      <td>2019</td>\n",
       "    </tr>\n",
       "    <tr>\n",
       "      <th>14</th>\n",
       "      <td>Developer, embedded applications or devices</td>\n",
       "      <td>1646</td>\n",
       "      <td>0.026789</td>\n",
       "      <td>2019</td>\n",
       "    </tr>\n",
       "    <tr>\n",
       "      <th>15</th>\n",
       "      <td>Developer, QA or test</td>\n",
       "      <td>1645</td>\n",
       "      <td>0.026773</td>\n",
       "      <td>2019</td>\n",
       "    </tr>\n",
       "    <tr>\n",
       "      <th>8</th>\n",
       "      <td>Engineer, data</td>\n",
       "      <td>1629</td>\n",
       "      <td>0.026513</td>\n",
       "      <td>2019</td>\n",
       "    </tr>\n",
       "    <tr>\n",
       "      <th>19</th>\n",
       "      <td>NaN</td>\n",
       "      <td>1547</td>\n",
       "      <td>0.025178</td>\n",
       "      <td>2019</td>\n",
       "    </tr>\n",
       "    <tr>\n",
       "      <th>10</th>\n",
       "      <td>Engineering manager</td>\n",
       "      <td>1377</td>\n",
       "      <td>0.022411</td>\n",
       "      <td>2019</td>\n",
       "    </tr>\n",
       "    <tr>\n",
       "      <th>21</th>\n",
       "      <td>Academic researcher</td>\n",
       "      <td>1167</td>\n",
       "      <td>0.018994</td>\n",
       "      <td>2019</td>\n",
       "    </tr>\n",
       "    <tr>\n",
       "      <th>23</th>\n",
       "      <td>Developer, game or graphics</td>\n",
       "      <td>947</td>\n",
       "      <td>0.015413</td>\n",
       "      <td>2019</td>\n",
       "    </tr>\n",
       "    <tr>\n",
       "      <th>9</th>\n",
       "      <td>Engineer, site reliability</td>\n",
       "      <td>945</td>\n",
       "      <td>0.015380</td>\n",
       "      <td>2019</td>\n",
       "    </tr>\n",
       "    <tr>\n",
       "      <th>17</th>\n",
       "      <td>Product manager</td>\n",
       "      <td>909</td>\n",
       "      <td>0.014794</td>\n",
       "      <td>2019</td>\n",
       "    </tr>\n",
       "    <tr>\n",
       "      <th>22</th>\n",
       "      <td>Scientist</td>\n",
       "      <td>902</td>\n",
       "      <td>0.014681</td>\n",
       "      <td>2019</td>\n",
       "    </tr>\n",
       "    <tr>\n",
       "      <th>16</th>\n",
       "      <td>Educator</td>\n",
       "      <td>888</td>\n",
       "      <td>0.014453</td>\n",
       "      <td>2019</td>\n",
       "    </tr>\n",
       "    <tr>\n",
       "      <th>11</th>\n",
       "      <td>Senior executive/VP</td>\n",
       "      <td>660</td>\n",
       "      <td>0.010742</td>\n",
       "      <td>2019</td>\n",
       "    </tr>\n",
       "    <tr>\n",
       "      <th>24</th>\n",
       "      <td>Marketing or sales professional</td>\n",
       "      <td>240</td>\n",
       "      <td>0.003906</td>\n",
       "      <td>2019</td>\n",
       "    </tr>\n",
       "  </tbody>\n",
       "</table>\n",
       "</div>"
      ],
      "text/plain": [
       "                                    DeveloperType  Count  Percentage  Year\n",
       "0                           Developer, full-stack  10628    0.172976  2019\n",
       "3                             Developer, back-end   8885    0.144608  2019\n",
       "5                            Developer, front-end   6103    0.099329  2019\n",
       "4   Developer, desktop or enterprise applications   3989    0.064923  2019\n",
       "6                               Developer, mobile   2631    0.042821  2019\n",
       "2                          Database administrator   2352    0.038280  2019\n",
       "7                               DevOps specialist   2337    0.038036  2019\n",
       "13                                       Designer   2313    0.037645  2019\n",
       "12                           System administrator   2227    0.036246  2019\n",
       "18                                        Student   2037    0.033153  2019\n",
       "1                        Data or business analyst   1751    0.028498  2019\n",
       "20  Data scientist or machine learning specialist   1687    0.027457  2019\n",
       "14    Developer, embedded applications or devices   1646    0.026789  2019\n",
       "15                          Developer, QA or test   1645    0.026773  2019\n",
       "8                                  Engineer, data   1629    0.026513  2019\n",
       "19                                            NaN   1547    0.025178  2019\n",
       "10                            Engineering manager   1377    0.022411  2019\n",
       "21                            Academic researcher   1167    0.018994  2019\n",
       "23                    Developer, game or graphics    947    0.015413  2019\n",
       "9                      Engineer, site reliability    945    0.015380  2019\n",
       "17                                Product manager    909    0.014794  2019\n",
       "22                                      Scientist    902    0.014681  2019\n",
       "16                                       Educator    888    0.014453  2019\n",
       "11                            Senior executive/VP    660    0.010742  2019\n",
       "24                Marketing or sales professional    240    0.003906  2019"
      ]
     },
     "execution_count": 118,
     "metadata": {},
     "output_type": "execute_result"
    }
   ],
   "source": [
    "occupation_2019"
   ]
  },
  {
   "cell_type": "code",
   "execution_count": 119,
   "metadata": {},
   "outputs": [],
   "source": [
    "# Notice how full-stack is different in 2015 and 2019. We will standardize for our graph."
   ]
  },
  {
   "cell_type": "code",
   "execution_count": 120,
   "metadata": {},
   "outputs": [],
   "source": [
    "occupation_df = occupation_2015.append(occupation_2016).append(occupation_2018).append(occupation_2019)"
   ]
  },
  {
   "cell_type": "code",
   "execution_count": 121,
   "metadata": {},
   "outputs": [],
   "source": [
    "#Terms change from year to year, so we will standardize occupations using a regex\n",
    "def standardize_developer_types(df, regexes, words):\n",
    "    '''\n",
    "    INPUT:\n",
    "    df - Your dataframe. This function will look for regexes and replace them with a word of your choice, \n",
    "         so you can standardize names for several years \n",
    "    regexes - A list of regexes to identify what strings to change\n",
    "    words - A new list of terms you would like to use\n",
    "    \n",
    "    OUTPUT:\n",
    "    new_df - A dataframe with standardized names\n",
    "    '''\n",
    "    new_df = df.replace(regexes, words, regex=True)\n",
    "    return new_df"
   ]
  },
  {
   "cell_type": "code",
   "execution_count": 122,
   "metadata": {},
   "outputs": [],
   "source": [
    "#A list of regexes\n",
    "regexes = [\"(?i).*full-stack.*\", \"(?i).*back-end.*\", \"(?i).*front-end.*\", \"(?i).*embedded.*\", \"(?i).*desktop.*\", \"(?i).*executive.*\", \"(?i).*devops.*\", \"(?i).*mobile.*\" ] \n",
    "#The new terms\n",
    "words = [\"Full-stack\", \"Back-end\", \"Front-end\", \"Embedded\", \"Desktop\", \"Executive\", \"DevOps\", \"Mobile\"]\n",
    "# A list of the most common occupations\n",
    "developer_types = [\"Full-stack\", \"Front-end\", \"Back-end\", \"Mobile\", \"Student\", \"Desktop\", \"Database administrator\", \"DevOps\"]"
   ]
  },
  {
   "cell_type": "code",
   "execution_count": 123,
   "metadata": {},
   "outputs": [],
   "source": [
    "standardized_data_df = standardize_developer_types(occupation_df, regexes, words)"
   ]
  },
  {
   "cell_type": "code",
   "execution_count": 124,
   "metadata": {},
   "outputs": [],
   "source": [
    "graph_data = standardized_data_df[standardized_data_df[\"DeveloperType\"].isin(developer_types)]"
   ]
  },
  {
   "cell_type": "code",
   "execution_count": 125,
   "metadata": {},
   "outputs": [
    {
     "data": {
      "image/png": "[encoded data removed]",
      "text/plain": [
       "<Figure size 842.4x595.44 with 1 Axes>"
      ]
     },
     "metadata": {},
     "output_type": "display_data"
    }
   ],
   "source": [
    "graph = sns.barplot(x=\"DeveloperType\", y=\"Percentage\", hue=\"Year\", data=graph_data)"
   ]
  },
  {
   "cell_type": "code",
   "execution_count": 126,
   "metadata": {},
   "outputs": [],
   "source": [
    "graph.figure.savefig(\"occupations.png\")"
   ]
  },
  {
   "cell_type": "markdown",
   "metadata": {},
   "source": [
    "<h3> Exploring 2019 data </h3>"
   ]
  },
  {
   "cell_type": "code",
   "execution_count": 127,
   "metadata": {},
   "outputs": [
    {
     "data": {
      "text/plain": [
       "(20949, 85)"
      ]
     },
     "execution_count": 127,
     "metadata": {},
     "output_type": "execute_result"
    }
   ],
   "source": [
    "# Now we are going to review 2019 data. Let's review the data first\n",
    "united_states[2019].shape[0], united_states[2019].shape[1]"
   ]
  },
  {
   "cell_type": "code",
   "execution_count": 128,
   "metadata": {},
   "outputs": [],
   "source": [
    "# There are 20,000 rows and 85 columns in 2019. Let's see what columns have missing data"
   ]
  },
  {
   "cell_type": "markdown",
   "metadata": {},
   "source": [
    "<h3> Data Understanding </h3>"
   ]
  },
  {
   "cell_type": "code",
   "execution_count": 129,
   "metadata": {},
   "outputs": [],
   "source": [
    "test_data = united_states[2019]\n",
    "missing_cols = set(test_data.columns[test_data.isna().mean()>.2])"
   ]
  },
  {
   "cell_type": "code",
   "execution_count": 130,
   "metadata": {},
   "outputs": [
    {
     "data": {
      "text/plain": [
       "{'BlockchainIs',\n",
       " 'BlockchainOrg',\n",
       " 'CodeRevHrs',\n",
       " 'CompFreq',\n",
       " 'CompTotal',\n",
       " 'ConvertedComp',\n",
       " 'DatabaseDesireNextYear',\n",
       " 'MgrIdiot',\n",
       " 'MgrMoney',\n",
       " 'MgrWant',\n",
       " 'MiscTechDesireNextYear',\n",
       " 'MiscTechWorkedWith',\n",
       " 'PurchaseHow',\n",
       " 'PurchaseWhat',\n",
       " 'SOHowMuchTime',\n",
       " 'SONewContent',\n",
       " 'UnitTests',\n",
       " 'WebFrameDesireNextYear',\n",
       " 'WebFrameWorkedWith',\n",
       " 'WorkWeekHrs'}"
      ]
     },
     "execution_count": 130,
     "metadata": {},
     "output_type": "execute_result"
    }
   ],
   "source": [
    "missing_cols"
   ]
  },
  {
   "cell_type": "code",
   "execution_count": 131,
   "metadata": {},
   "outputs": [],
   "source": [
    "#10 features are missing more than 20 percent of the data. Let's review them"
   ]
  },
  {
   "cell_type": "code",
   "execution_count": 132,
   "metadata": {},
   "outputs": [
    {
     "data": {
      "text/plain": [
       "3        Not at all\n",
       "12       Not at all\n",
       "21       Not at all\n",
       "22              NaN\n",
       "25       Not at all\n",
       "            ...    \n",
       "88818           NaN\n",
       "88840           NaN\n",
       "88844           NaN\n",
       "88859           NaN\n",
       "88877           NaN\n",
       "Name: BlockchainOrg, Length: 20949, dtype: object"
      ]
     },
     "execution_count": 132,
     "metadata": {},
     "output_type": "execute_result"
    }
   ],
   "source": [
    "test_data[\"BlockchainOrg\"]"
   ]
  },
  {
   "cell_type": "code",
   "execution_count": 133,
   "metadata": {},
   "outputs": [],
   "source": [
    "#Let's checkout BlockchainIs next"
   ]
  },
  {
   "cell_type": "code",
   "execution_count": 134,
   "metadata": {},
   "outputs": [
    {
     "data": {
      "text/plain": [
       "3        Useful for decentralized currency (i.e., Bitcoin)\n",
       "12       Useful for decentralized currency (i.e., Bitcoin)\n",
       "21                                                     NaN\n",
       "22       Useful for immutable record keeping outside of...\n",
       "25                                           A passing fad\n",
       "                               ...                        \n",
       "88818    Useful for immutable record keeping outside of...\n",
       "88840                                                  NaN\n",
       "88844                                                  NaN\n",
       "88859    Useful for immutable record keeping outside of...\n",
       "88877                    An irresponsible use of resources\n",
       "Name: BlockchainIs, Length: 20949, dtype: object"
      ]
     },
     "execution_count": 134,
     "metadata": {},
     "output_type": "execute_result"
    }
   ],
   "source": [
    "test_data[\"BlockchainIs\"]"
   ]
  },
  {
   "cell_type": "code",
   "execution_count": 135,
   "metadata": {},
   "outputs": [
    {
     "data": {
      "text/plain": [
       "<matplotlib.axes._subplots.AxesSubplot at 0x13117cf50>"
      ]
     },
     "execution_count": 135,
     "metadata": {},
     "output_type": "execute_result"
    },
    {
     "data": {
      "image/png": "[encoded data removed]",
      "text/plain": [
       "<Figure size 842.4x595.44 with 1 Axes>"
      ]
     },
     "metadata": {},
     "output_type": "display_data"
    }
   ],
   "source": [
    "test_data[\"CodeRevHrs\"].hist(bins=20)"
   ]
  },
  {
   "cell_type": "code",
   "execution_count": 136,
   "metadata": {},
   "outputs": [
    {
     "data": {
      "text/plain": [
       "3                                            MySQL;SQLite\n",
       "12                                   Firebase;MySQL;Redis\n",
       "21                       Elasticsearch;MySQL;Oracle;Redis\n",
       "22       Couchbase;DynamoDB;Elasticsearch;Firebase;Oracle\n",
       "25                Microsoft SQL Server;MySQL;Redis;SQLite\n",
       "                               ...                       \n",
       "88818                                              SQLite\n",
       "88840                                                 NaN\n",
       "88844                                                 NaN\n",
       "88859                                                 NaN\n",
       "88877                                                 NaN\n",
       "Name: DatabaseDesireNextYear, Length: 20949, dtype: object"
      ]
     },
     "execution_count": 136,
     "metadata": {},
     "output_type": "execute_result"
    }
   ],
   "source": [
    "test_data['DatabaseDesireNextYear']"
   ]
  },
  {
   "cell_type": "code",
   "execution_count": 137,
   "metadata": {},
   "outputs": [
    {
     "data": {
      "text/plain": [
       "3                           .NET\n",
       "12            Node.js;TensorFlow\n",
       "21                       Node.js\n",
       "22       React Native;TensorFlow\n",
       "25        .NET;.NET Core;Node.js\n",
       "                  ...           \n",
       "88818                        NaN\n",
       "88840                        NaN\n",
       "88844         Chef;Torch/PyTorch\n",
       "88859                        NaN\n",
       "88877                    Ansible\n",
       "Name: MiscTechDesireNextYear, Length: 20949, dtype: object"
      ]
     },
     "execution_count": 137,
     "metadata": {},
     "output_type": "execute_result"
    }
   ],
   "source": [
    "test_data[\"MiscTechDesireNextYear\"]"
   ]
  },
  {
   "cell_type": "code",
   "execution_count": 138,
   "metadata": {},
   "outputs": [
    {
     "data": {
      "text/plain": [
       "3                                  .NET\n",
       "12                      Node.js;Xamarin\n",
       "21                              Node.js\n",
       "22                                  NaN\n",
       "25       .NET;.NET Core;Node.js;Xamarin\n",
       "                      ...              \n",
       "88818                              Chef\n",
       "88840                               NaN\n",
       "88844                               NaN\n",
       "88859                               NaN\n",
       "88877                           Node.js\n",
       "Name: MiscTechWorkedWith, Length: 20949, dtype: object"
      ]
     },
     "execution_count": 138,
     "metadata": {},
     "output_type": "execute_result"
    }
   ],
   "source": [
    "test_data['MiscTechWorkedWith']"
   ]
  },
  {
   "cell_type": "code",
   "execution_count": 139,
   "metadata": {},
   "outputs": [
    {
     "data": {
      "text/plain": [
       "3        31-60 minutes\n",
       "12       11-30 minutes\n",
       "21        0-10 minutes\n",
       "22                 NaN\n",
       "25       11-30 minutes\n",
       "             ...      \n",
       "88818    11-30 minutes\n",
       "88840      60+ minutes\n",
       "88844              NaN\n",
       "88859      60+ minutes\n",
       "88877              NaN\n",
       "Name: SOHowMuchTime, Length: 20949, dtype: object"
      ]
     },
     "execution_count": 139,
     "metadata": {},
     "output_type": "execute_result"
    }
   ],
   "source": [
    "test_data[\"SOHowMuchTime\"]"
   ]
  },
  {
   "cell_type": "code",
   "execution_count": 140,
   "metadata": {},
   "outputs": [
    {
     "data": {
      "text/plain": [
       "Tech articles written by other developers;Industry news about technologies you're interested in;Tech meetups or events in your area;Courses on technologies you're interested in    3113\n",
       "Tech articles written by other developers                                                                                                                                           1404\n",
       "Tech meetups or events in your area                                                                                                                                                 1199\n",
       "Courses on technologies you're interested in                                                                                                                                        1185\n",
       "Tech articles written by other developers;Courses on technologies you're interested in                                                                                              1147\n",
       "Tech meetups or events in your area;Courses on technologies you're interested in                                                                                                    1097\n",
       "Tech articles written by other developers;Industry news about technologies you're interested in                                                                                     1095\n",
       "Tech articles written by other developers;Tech meetups or events in your area;Courses on technologies you're interested in                                                          1023\n",
       "Tech articles written by other developers;Industry news about technologies you're interested in;Courses on technologies you're interested in                                         976\n",
       "Tech articles written by other developers;Industry news about technologies you're interested in;Tech meetups or events in your area                                                  870\n",
       "Tech articles written by other developers;Tech meetups or events in your area                                                                                                        861\n",
       "Industry news about technologies you're interested in;Tech meetups or events in your area                                                                                            364\n",
       "Industry news about technologies you're interested in                                                                                                                                335\n",
       "Industry news about technologies you're interested in;Courses on technologies you're interested in                                                                                   297\n",
       "Industry news about technologies you're interested in;Tech meetups or events in your area;Courses on technologies you're interested in                                               293\n",
       "Name: SONewContent, dtype: int64"
      ]
     },
     "execution_count": 140,
     "metadata": {},
     "output_type": "execute_result"
    }
   ],
   "source": [
    "test_data[\"SONewContent\"].value_counts()"
   ]
  },
  {
   "cell_type": "code",
   "execution_count": 141,
   "metadata": {},
   "outputs": [
    {
     "data": {
      "text/plain": [
       "3                                          NaN\n",
       "12                              Express;Vue.js\n",
       "21            Angular/Angular.js;Ruby on Rails\n",
       "22       Express;React.js;Ruby on Rails;Vue.js\n",
       "25                  Angular/Angular.js;ASP.NET\n",
       "                         ...                  \n",
       "88818                                      NaN\n",
       "88840                                      NaN\n",
       "88844      Django;Drupal;Flask;jQuery;React.js\n",
       "88859                                      NaN\n",
       "88877                                   Vue.js\n",
       "Name: WebFrameDesireNextYear, Length: 20949, dtype: object"
      ]
     },
     "execution_count": 141,
     "metadata": {},
     "output_type": "execute_result"
    }
   ],
   "source": [
    "test_data[\"WebFrameDesireNextYear\"]"
   ]
  },
  {
   "cell_type": "code",
   "execution_count": 142,
   "metadata": {},
   "outputs": [
    {
     "data": {
      "text/plain": [
       "3                                                      NaN\n",
       "12        Angular/Angular.js;ASP.NET;Express;jQuery;Vue.js\n",
       "21                        Angular/Angular.js;Ruby on Rails\n",
       "22                                  React.js;Ruby on Rails\n",
       "25       Angular/Angular.js;ASP.NET;Drupal;Express;jQue...\n",
       "                               ...                        \n",
       "88818                                                  NaN\n",
       "88840                                                  NaN\n",
       "88844                                                Flask\n",
       "88859                                                  NaN\n",
       "88877                                             React.js\n",
       "Name: WebFrameWorkedWith, Length: 20949, dtype: object"
      ]
     },
     "execution_count": 142,
     "metadata": {},
     "output_type": "execute_result"
    }
   ],
   "source": [
    "test_data[\"WebFrameWorkedWith\"]"
   ]
  },
  {
   "cell_type": "code",
   "execution_count": 143,
   "metadata": {},
   "outputs": [],
   "source": [
    "# It looks like we have quite a few semicolon separated lists. Let's look for semicolons in every column"
   ]
  },
  {
   "cell_type": "code",
   "execution_count": 144,
   "metadata": {},
   "outputs": [],
   "source": [
    "def get_all_semicolon_columns(df):\n",
    "    col_lst = []\n",
    "    for col in df.select_dtypes(include=\"object\").columns:\n",
    "        if sum(test_data[col].str.contains(\";\", na=False)) > 0:\n",
    "            col_lst.append(col)\n",
    "    return col_lst"
   ]
  },
  {
   "cell_type": "code",
   "execution_count": 145,
   "metadata": {},
   "outputs": [],
   "source": [
    "semicolon_columns = get_all_semicolon_columns(test_data)"
   ]
  },
  {
   "cell_type": "code",
   "execution_count": 146,
   "metadata": {},
   "outputs": [
    {
     "data": {
      "text/plain": [
       "['EduOther',\n",
       " 'DevType',\n",
       " 'LastInt',\n",
       " 'JobFactors',\n",
       " 'WorkPlan',\n",
       " 'WorkChallenge',\n",
       " 'LanguageWorkedWith',\n",
       " 'LanguageDesireNextYear',\n",
       " 'DatabaseWorkedWith',\n",
       " 'DatabaseDesireNextYear',\n",
       " 'PlatformWorkedWith',\n",
       " 'PlatformDesireNextYear',\n",
       " 'WebFrameWorkedWith',\n",
       " 'WebFrameDesireNextYear',\n",
       " 'MiscTechWorkedWith',\n",
       " 'MiscTechDesireNextYear',\n",
       " 'DevEnviron',\n",
       " 'Containers',\n",
       " 'SOVisitTo',\n",
       " 'SONewContent',\n",
       " 'Gender',\n",
       " 'Sexuality',\n",
       " 'Ethnicity']"
      ]
     },
     "execution_count": 146,
     "metadata": {},
     "output_type": "execute_result"
    }
   ],
   "source": [
    "semicolon_columns"
   ]
  },
  {
   "cell_type": "code",
   "execution_count": 147,
   "metadata": {},
   "outputs": [],
   "source": [
    "# We can create a lot of interesting charts if we clean these semicolon columns"
   ]
  },
  {
   "cell_type": "markdown",
   "metadata": {},
   "source": [
    "<h3> Preparing Data </h3>\n",
    "    \n",
    "We can convert all semi-colon columns to dummy variables and sum the results of the dummy columns to find the most common responses\n",
    " "
   ]
  },
  {
   "cell_type": "code",
   "execution_count": 148,
   "metadata": {},
   "outputs": [],
   "source": [
    "def clean_semi_colon(df, column_name):\n",
    "    '''\n",
    "    INPUT:\n",
    "    df - Your dataframe. This function will create dummy variables for semicolons  \n",
    "    column_name - The column you would like to split into dummy variables \n",
    "    \n",
    "    OUTPUT:\n",
    "    new_df - A new dataframe with all dummy variables and salary\n",
    "    '''\n",
    "    new_df = df[column_name].str.get_dummies(sep=\";\").add_prefix(column_name+ \"_\")\n",
    "    new_df = new_df.join(df[\"CompTotal\"])\n",
    "    return new_df"
   ]
  },
  {
   "cell_type": "code",
   "execution_count": 149,
   "metadata": {},
   "outputs": [],
   "source": [
    "# A function for renaming columns by splitting on '_' and retaining information after\n",
    "split = lambda x:pd.Series(str(x).split(\"_\"))"
   ]
  },
  {
   "cell_type": "code",
   "execution_count": 157,
   "metadata": {},
   "outputs": [],
   "source": [
    "def barplot_by_column(df, column, min_salary=0):\n",
    "    '''\n",
    "    INPUT:\n",
    "    df - Your dataframe. This function will create dummy variables for semicolons  \n",
    "    column - The column you would like to analyze\n",
    "    min_salary - You can slice the data above a certain salary\n",
    "    \n",
    "    OUTPUT:\n",
    "    A bar graph of the 10 highest choices\n",
    "    '''\n",
    "    skills_df = clean_semi_colon(df, column)\n",
    "    skills_df = skills_df[skills_df[\"CompTotal\"] > min_salary]\n",
    "    skills_df = pd.DataFrame(skills_df.sum()/skills_df.shape[0]).reset_index()\n",
    "    skills_df.columns = [\"Skill\", \"Percentage\"]\n",
    "    skills_df[[\"Junk\", \"Skill\"]] = skills_df[\"Skill\"].apply(split)\n",
    "    skills_df = skills_df.sort_values(by=\"Percentage\", ascending=False)\n",
    "    ax = sns.barplot(x=\"Percentage\", y=\"Skill\", data=skills_df[0:10])\n",
    "    #ax = ax.set_xlabel('Percentage')\n",
    "    return ax"
   ]
  },
  {
   "cell_type": "markdown",
   "metadata": {},
   "source": [
    "<h3> Question 3: What Skills do people want to learn next year? (From 2019) </h3>"
   ]
  },
  {
   "cell_type": "code",
   "execution_count": 159,
   "metadata": {},
   "outputs": [
    {
     "data": {
      "image/png": "[encoded data removed]",
      "text/plain": [
       "<Figure size 842.4x595.44 with 1 Axes>"
      ]
     },
     "metadata": {},
     "output_type": "display_data"
    }
   ],
   "source": [
    "next_tech = barplot_by_column(test_data, \"MiscTechDesireNextYear\", 0)\n",
    "next_tech.figure.savefig(\"next_tech.png\")"
   ]
  },
  {
   "cell_type": "markdown",
   "metadata": {},
   "source": [
    "<h3> Question 4: What languages do people work with now? </h3>"
   ]
  },
  {
   "cell_type": "code",
   "execution_count": 160,
   "metadata": {
    "scrolled": true
   },
   "outputs": [
    {
     "data": {
      "image/png": "[encoded data removed]",
      "text/plain": [
       "<Figure size 842.4x595.44 with 1 Axes>"
      ]
     },
     "metadata": {},
     "output_type": "display_data"
    }
   ],
   "source": [
    "languages = barplot_by_column(test_data, \"LanguageWorkedWith\", 0)\n",
    "languages.figure.savefig(\"languages.png\")"
   ]
  },
  {
   "cell_type": "markdown",
   "metadata": {},
   "source": [
    "<h3> Question 5: What web frameworks do they use most often? </h3>"
   ]
  },
  {
   "cell_type": "code",
   "execution_count": 161,
   "metadata": {},
   "outputs": [
    {
     "data": {
      "image/png": "[encoded data removed]",
      "text/plain": [
       "<Figure size 842.4x595.44 with 1 Axes>"
      ]
     },
     "metadata": {},
     "output_type": "display_data"
    }
   ],
   "source": [
    "framework = barplot_by_column(test_data, \"WebFrameWorkedWith\", 0)\n",
    "framework.figure.savefig(\"framework.png\")"
   ]
  },
  {
   "cell_type": "markdown",
   "metadata": {},
   "source": [
    "<h3> Question 6: What databases do they use most often? </h3>"
   ]
  },
  {
   "cell_type": "code",
   "execution_count": 162,
   "metadata": {},
   "outputs": [
    {
     "data": {
      "text/plain": [
       "<matplotlib.axes._subplots.AxesSubplot at 0x13119a750>"
      ]
     },
     "execution_count": 162,
     "metadata": {},
     "output_type": "execute_result"
    },
    {
     "data": {
      "image/png": "[encoded data removed]",
      "text/plain": [
       "<Figure size 842.4x595.44 with 1 Axes>"
      ]
     },
     "metadata": {},
     "output_type": "display_data"
    }
   ],
   "source": [
    "barplot_by_column(test_data, \"DatabaseWorkedWith\", 0)"
   ]
  },
  {
   "cell_type": "markdown",
   "metadata": {},
   "source": [
    "<h3> Question 7: What is the biggest work challenge for developers? </h3>"
   ]
  },
  {
   "cell_type": "code",
   "execution_count": 163,
   "metadata": {},
   "outputs": [
    {
     "data": {
      "image/png": "[encoded data removed]",
      "text/plain": [
       "<Figure size 842.4x595.44 with 1 Axes>"
      ]
     },
     "metadata": {},
     "output_type": "display_data"
    }
   ],
   "source": [
    "challenge = barplot_by_column(test_data, 'WorkChallenge', 0)\n",
    "challenge.figure.savefig(\"challenge.png\")"
   ]
  },
  {
   "cell_type": "markdown",
   "metadata": {},
   "source": [
    "<h3> Question 8: What IDEs to people use? </h3>"
   ]
  },
  {
   "cell_type": "code",
   "execution_count": 164,
   "metadata": {},
   "outputs": [
    {
     "data": {
      "text/plain": [
       "<matplotlib.axes._subplots.AxesSubplot at 0x1292a46d0>"
      ]
     },
     "execution_count": 164,
     "metadata": {},
     "output_type": "execute_result"
    },
    {
     "data": {
      "image/png": "[encoded data removed]",
      "text/plain": [
       "<Figure size 842.4x595.44 with 1 Axes>"
      ]
     },
     "metadata": {},
     "output_type": "display_data"
    }
   ],
   "source": [
    "barplot_by_column(test_data, 'DevEnviron', 0)"
   ]
  },
  {
   "cell_type": "code",
   "execution_count": null,
   "metadata": {},
   "outputs": [],
   "source": []
  }
 ],
 "metadata": {
  "kernelspec": {
   "display_name": "Python 3",
   "language": "python",
   "name": "python3"
  },
  "language_info": {
   "codemirror_mode": {
    "name": "ipython",
    "version": 3
   },
   "file_extension": ".py",
   "mimetype": "text/x-python",
   "name": "python",
   "nbconvert_exporter": "python",
   "pygments_lexer": "ipython3",
   "version": "3.7.7"
  }
 },
 "nbformat": 4,
 "nbformat_minor": 4
}
