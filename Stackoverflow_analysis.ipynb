{
 "cells": [
  {
   "cell_type": "code",
   "execution_count": 332,
   "metadata": {},
   "outputs": [],
   "source": [
    "import pandas as pd\n",
    "import numpy as np\n",
    "import matplotlib.pyplot as plt\n",
    "import seaborn as sns\n",
    "from collections import defaultdict"
   ]
  },
  {
   "cell_type": "code",
   "execution_count": 333,
   "metadata": {},
   "outputs": [],
   "source": [
    "def create_year_dataframe(year):\n",
    "    df = pd.read_csv(\"survey_results_public_\" + str(year) + \".csv\", low_memory=False)\n",
    "    return df"
   ]
  },
  {
   "cell_type": "code",
   "execution_count": 334,
   "metadata": {},
   "outputs": [],
   "source": [
    "years_data = [2015, 2016, 2017, 2018, 2019]"
   ]
  },
  {
   "cell_type": "code",
   "execution_count": 335,
   "metadata": {},
   "outputs": [],
   "source": [
    "def create_all_dataframes(all_years):\n",
    "    dict_df = {}\n",
    "    for year in years_data:\n",
    "        dict_df[year] = create_year_dataframe(year)\n",
    "    return dict_df"
   ]
  },
  {
   "cell_type": "code",
   "execution_count": 336,
   "metadata": {},
   "outputs": [],
   "source": [
    "all_years = create_all_dataframes(years_data)"
   ]
  },
  {
   "cell_type": "code",
   "execution_count": 337,
   "metadata": {},
   "outputs": [
    {
     "data": {
      "text/html": [
       "<div>\n",
       "<style scoped>\n",
       "    .dataframe tbody tr th:only-of-type {\n",
       "        vertical-align: middle;\n",
       "    }\n",
       "\n",
       "    .dataframe tbody tr th {\n",
       "        vertical-align: top;\n",
       "    }\n",
       "\n",
       "    .dataframe thead th {\n",
       "        text-align: right;\n",
       "    }\n",
       "</style>\n",
       "<table border=\"1\" class=\"dataframe\">\n",
       "  <thead>\n",
       "    <tr style=\"text-align: right;\">\n",
       "      <th></th>\n",
       "      <th>Unnamed: 0</th>\n",
       "      <th>Unnamed: 1</th>\n",
       "      <th>Unnamed: 2</th>\n",
       "      <th>Unnamed: 3</th>\n",
       "      <th>Unnamed: 4</th>\n",
       "      <th>Unnamed: 5</th>\n",
       "      <th>Unnamed: 6</th>\n",
       "      <th>Unnamed: 7</th>\n",
       "      <th>Select all that apply</th>\n",
       "      <th>Unnamed: 9</th>\n",
       "      <th>...</th>\n",
       "      <th>Unnamed: 212</th>\n",
       "      <th>Unnamed: 213</th>\n",
       "      <th>Select all that apply.7</th>\n",
       "      <th>Unnamed: 215</th>\n",
       "      <th>Unnamed: 216</th>\n",
       "      <th>Unnamed: 217</th>\n",
       "      <th>Unnamed: 218</th>\n",
       "      <th>Unnamed: 219</th>\n",
       "      <th>Unnamed: 220</th>\n",
       "      <th>Unnamed: 221</th>\n",
       "    </tr>\n",
       "  </thead>\n",
       "  <tbody>\n",
       "    <tr>\n",
       "      <th>0</th>\n",
       "      <td>Country</td>\n",
       "      <td>Age</td>\n",
       "      <td>Gender</td>\n",
       "      <td>Tabs or Spaces</td>\n",
       "      <td>Years IT / Programming Experience</td>\n",
       "      <td>Occupation</td>\n",
       "      <td>Desktop Operating System</td>\n",
       "      <td>Desktop Operating System: write-in</td>\n",
       "      <td>Current Lang &amp; Tech: Android</td>\n",
       "      <td>Current Lang &amp; Tech: Arduino</td>\n",
       "      <td>...</td>\n",
       "      <td>Why use Stack Overflow: I don't use Stack Over...</td>\n",
       "      <td>How often are Stack Overflow's answers helpful</td>\n",
       "      <td>Why answer: Help a programmer in need</td>\n",
       "      <td>Why answer: Help future programmers</td>\n",
       "      <td>Why answer: Demonstrate expertise</td>\n",
       "      <td>Why answer: Self promotion</td>\n",
       "      <td>Why answer: Sense of responsibility to developers</td>\n",
       "      <td>Why answer: No idea</td>\n",
       "      <td>Why answer: I don't answer and I don't want to</td>\n",
       "      <td>Why answer: I don't answer but I want to</td>\n",
       "    </tr>\n",
       "    <tr>\n",
       "      <th>1</th>\n",
       "      <td>Croatia</td>\n",
       "      <td>25-29</td>\n",
       "      <td>Male</td>\n",
       "      <td>Tabs</td>\n",
       "      <td>2 - 5 years</td>\n",
       "      <td>Back-end web developer</td>\n",
       "      <td>Ubuntu</td>\n",
       "      <td>NaN</td>\n",
       "      <td>NaN</td>\n",
       "      <td>NaN</td>\n",
       "      <td>...</td>\n",
       "      <td>NaN</td>\n",
       "      <td>Usually</td>\n",
       "      <td>NaN</td>\n",
       "      <td>NaN</td>\n",
       "      <td>It feels good to demonstrate my expertise.</td>\n",
       "      <td>Demonstrating my expertise will benefit me</td>\n",
       "      <td>I feel a sense of responsibility to the develo...</td>\n",
       "      <td>NaN</td>\n",
       "      <td>NaN</td>\n",
       "      <td>NaN</td>\n",
       "    </tr>\n",
       "    <tr>\n",
       "      <th>2</th>\n",
       "      <td>France</td>\n",
       "      <td>20-24</td>\n",
       "      <td>Male</td>\n",
       "      <td>Spaces</td>\n",
       "      <td>1 - 2 years</td>\n",
       "      <td>Back-end web developer</td>\n",
       "      <td>Windows 7</td>\n",
       "      <td>NaN</td>\n",
       "      <td>NaN</td>\n",
       "      <td>NaN</td>\n",
       "      <td>...</td>\n",
       "      <td>NaN</td>\n",
       "      <td>Usually</td>\n",
       "      <td>NaN</td>\n",
       "      <td>My answer will help lots of people who have th...</td>\n",
       "      <td>It feels good to demonstrate my expertise.</td>\n",
       "      <td>NaN</td>\n",
       "      <td>NaN</td>\n",
       "      <td>NaN</td>\n",
       "      <td>NaN</td>\n",
       "      <td>NaN</td>\n",
       "    </tr>\n",
       "    <tr>\n",
       "      <th>3</th>\n",
       "      <td>India</td>\n",
       "      <td>20-24</td>\n",
       "      <td>Male</td>\n",
       "      <td>Tabs</td>\n",
       "      <td>1 - 2 years</td>\n",
       "      <td>Back-end web developer</td>\n",
       "      <td>Windows 7</td>\n",
       "      <td>NaN</td>\n",
       "      <td>NaN</td>\n",
       "      <td>NaN</td>\n",
       "      <td>...</td>\n",
       "      <td>NaN</td>\n",
       "      <td>Rarely</td>\n",
       "      <td>NaN</td>\n",
       "      <td>NaN</td>\n",
       "      <td>NaN</td>\n",
       "      <td>Demonstrating my expertise will benefit me</td>\n",
       "      <td>NaN</td>\n",
       "      <td>NaN</td>\n",
       "      <td>NaN</td>\n",
       "      <td>NaN</td>\n",
       "    </tr>\n",
       "    <tr>\n",
       "      <th>4</th>\n",
       "      <td>Latvia</td>\n",
       "      <td>25-29</td>\n",
       "      <td>Male</td>\n",
       "      <td>It depends</td>\n",
       "      <td>6 - 10 years</td>\n",
       "      <td>Back-end web developer</td>\n",
       "      <td>Ubuntu</td>\n",
       "      <td>NaN</td>\n",
       "      <td>NaN</td>\n",
       "      <td>NaN</td>\n",
       "      <td>...</td>\n",
       "      <td>NaN</td>\n",
       "      <td>Usually</td>\n",
       "      <td>It feels good to help a programmer in need</td>\n",
       "      <td>My answer will help lots of people who have th...</td>\n",
       "      <td>It feels good to demonstrate my expertise.</td>\n",
       "      <td>Demonstrating my expertise will benefit me</td>\n",
       "      <td>I feel a sense of responsibility to the develo...</td>\n",
       "      <td>NaN</td>\n",
       "      <td>NaN</td>\n",
       "      <td>NaN</td>\n",
       "    </tr>\n",
       "  </tbody>\n",
       "</table>\n",
       "<p>5 rows × 222 columns</p>\n",
       "</div>"
      ],
      "text/plain": [
       "  Unnamed: 0 Unnamed: 1 Unnamed: 2      Unnamed: 3  \\\n",
       "0    Country        Age     Gender  Tabs or Spaces   \n",
       "1    Croatia      25-29       Male            Tabs   \n",
       "2     France      20-24       Male          Spaces   \n",
       "3      India      20-24       Male            Tabs   \n",
       "4     Latvia      25-29       Male      It depends   \n",
       "\n",
       "                          Unnamed: 4              Unnamed: 5  \\\n",
       "0  Years IT / Programming Experience              Occupation   \n",
       "1                        2 - 5 years  Back-end web developer   \n",
       "2                        1 - 2 years  Back-end web developer   \n",
       "3                        1 - 2 years  Back-end web developer   \n",
       "4                       6 - 10 years  Back-end web developer   \n",
       "\n",
       "                 Unnamed: 6                          Unnamed: 7  \\\n",
       "0  Desktop Operating System  Desktop Operating System: write-in   \n",
       "1                    Ubuntu                                 NaN   \n",
       "2                 Windows 7                                 NaN   \n",
       "3                 Windows 7                                 NaN   \n",
       "4                    Ubuntu                                 NaN   \n",
       "\n",
       "          Select all that apply                    Unnamed: 9  ...  \\\n",
       "0  Current Lang & Tech: Android  Current Lang & Tech: Arduino  ...   \n",
       "1                           NaN                           NaN  ...   \n",
       "2                           NaN                           NaN  ...   \n",
       "3                           NaN                           NaN  ...   \n",
       "4                           NaN                           NaN  ...   \n",
       "\n",
       "                                        Unnamed: 212  \\\n",
       "0  Why use Stack Overflow: I don't use Stack Over...   \n",
       "1                                                NaN   \n",
       "2                                                NaN   \n",
       "3                                                NaN   \n",
       "4                                                NaN   \n",
       "\n",
       "                                     Unnamed: 213  \\\n",
       "0  How often are Stack Overflow's answers helpful   \n",
       "1                                         Usually   \n",
       "2                                         Usually   \n",
       "3                                          Rarely   \n",
       "4                                         Usually   \n",
       "\n",
       "                      Select all that apply.7  \\\n",
       "0       Why answer: Help a programmer in need   \n",
       "1                                         NaN   \n",
       "2                                         NaN   \n",
       "3                                         NaN   \n",
       "4  It feels good to help a programmer in need   \n",
       "\n",
       "                                        Unnamed: 215  \\\n",
       "0                Why answer: Help future programmers   \n",
       "1                                                NaN   \n",
       "2  My answer will help lots of people who have th...   \n",
       "3                                                NaN   \n",
       "4  My answer will help lots of people who have th...   \n",
       "\n",
       "                                 Unnamed: 216  \\\n",
       "0           Why answer: Demonstrate expertise   \n",
       "1  It feels good to demonstrate my expertise.   \n",
       "2  It feels good to demonstrate my expertise.   \n",
       "3                                         NaN   \n",
       "4  It feels good to demonstrate my expertise.   \n",
       "\n",
       "                                 Unnamed: 217  \\\n",
       "0                  Why answer: Self promotion   \n",
       "1  Demonstrating my expertise will benefit me   \n",
       "2                                         NaN   \n",
       "3  Demonstrating my expertise will benefit me   \n",
       "4  Demonstrating my expertise will benefit me   \n",
       "\n",
       "                                        Unnamed: 218         Unnamed: 219  \\\n",
       "0  Why answer: Sense of responsibility to developers  Why answer: No idea   \n",
       "1  I feel a sense of responsibility to the develo...                  NaN   \n",
       "2                                                NaN                  NaN   \n",
       "3                                                NaN                  NaN   \n",
       "4  I feel a sense of responsibility to the develo...                  NaN   \n",
       "\n",
       "                                     Unnamed: 220  \\\n",
       "0  Why answer: I don't answer and I don't want to   \n",
       "1                                             NaN   \n",
       "2                                             NaN   \n",
       "3                                             NaN   \n",
       "4                                             NaN   \n",
       "\n",
       "                               Unnamed: 221  \n",
       "0  Why answer: I don't answer but I want to  \n",
       "1                                       NaN  \n",
       "2                                       NaN  \n",
       "3                                       NaN  \n",
       "4                                       NaN  \n",
       "\n",
       "[5 rows x 222 columns]"
      ]
     },
     "execution_count": 337,
     "metadata": {},
     "output_type": "execute_result"
    }
   ],
   "source": [
    "all_years[2015].head()"
   ]
  },
  {
   "cell_type": "code",
   "execution_count": 338,
   "metadata": {},
   "outputs": [],
   "source": [
    "#cleaning 2015 headers\n",
    "columns_2015 = all_years[2015].iloc[0]\n",
    "all_years[2015] = all_years[2015][1:]\n",
    "all_years[2015].columns = columns_2015"
   ]
  },
  {
   "cell_type": "markdown",
   "metadata": {},
   "source": [
    "<H2> Question 1: How has the survey changed over the year <h2>"
   ]
  },
  {
   "cell_type": "code",
   "execution_count": 339,
   "metadata": {},
   "outputs": [],
   "source": [
    "def get_yearly_shape(dictionary, year):\n",
    "    return dictionary[year].shape[0], dictionary[year].shape[1]"
   ]
  },
  {
   "cell_type": "code",
   "execution_count": 340,
   "metadata": {},
   "outputs": [
    {
     "data": {
      "text/plain": [
       "(88883, 85)"
      ]
     },
     "execution_count": 340,
     "metadata": {},
     "output_type": "execute_result"
    }
   ],
   "source": [
    "get_yearly_shape(all_years, 2019)"
   ]
  },
  {
   "cell_type": "markdown",
   "metadata": {},
   "source": [
    "<H2> Question 2: How have the most common occupations changed in the United States over the last 3 years <h2>"
   ]
  },
  {
   "cell_type": "code",
   "execution_count": 341,
   "metadata": {},
   "outputs": [],
   "source": [
    "def create_value_df(df, year, column, column_name):\n",
    "    new_df = pd.DataFrame(df[year][column].value_counts()).reset_index()\n",
    "    new_df.columns=[column_name, \"Count\"]\n",
    "    new_df[\"Percentage\"] = new_df[\"Count\"]/sum(new_df[\"Count\"])\n",
    "    new_df = new_df.replace(\"(?i).*mobile.*\", \"Mobile\", regex=True)\n",
    "    new_df = new_df.groupby(\"DeveloperType\", as_index=False).sum()\n",
    "    new_df[\"Year\"] = year\n",
    "    new_df.sort_values(\"Percentage\", ascending=False, inplace=True)\n",
    "    return new_df"
   ]
  },
  {
   "cell_type": "code",
   "execution_count": 342,
   "metadata": {},
   "outputs": [],
   "source": [
    "def split_words(df, year, column, column_name):\n",
    "    all_the_words = defaultdict(int) \n",
    "    for row in df[year][column]:\n",
    "        if isinstance(row, float):\n",
    "            all_the_words[row] += 1\n",
    "        else:\n",
    "            for word in row.split(\";\"):\n",
    "                all_the_words[word.strip()] += 1\n",
    "    new_df = pd.DataFrame(pd.Series(all_the_words)).reset_index()\n",
    "    new_df.columns = [column_name, \"Count\"]\n",
    "    new_df[\"Percentage\"] = new_df[\"Count\"] / sum(new_df[\"Count\"])\n",
    "    new_df[\"Year\"] = year\n",
    "    new_df.sort_values('Percentage', ascending=False, inplace=True)\n",
    "    return new_df"
   ]
  },
  {
   "cell_type": "code",
   "execution_count": 343,
   "metadata": {},
   "outputs": [],
   "source": [
    "occupation_2015 = create_value_df(all_years, 2015, \"Occupation\", \"DeveloperType\")\n",
    "occupation_2016 = create_value_df(all_years, 2016, \"occupation\", \"DeveloperType\")\n",
    "occupation_2017 = split_words(all_years, 2017, \"DeveloperType\", \"DeveloperType\")\n",
    "occupation_2018 = split_words(all_years, 2018, \"DevType\", \"DeveloperType\")\n",
    "occupation_2019 = split_words(all_years, 2019, \"DevType\", \"DeveloperType\")"
   ]
  },
  {
   "cell_type": "code",
   "execution_count": 344,
   "metadata": {},
   "outputs": [],
   "source": [
    "occupation_df = occupation_2015.append(occupation_2016).append(occupation_2017).append(occupation_2018).append(occupation_2019)"
   ]
  },
  {
   "cell_type": "code",
   "execution_count": 345,
   "metadata": {},
   "outputs": [],
   "source": [
    "def standardize_developer_types(df, regexes, words):\n",
    "    new_df = df.replace(regexes, words, regex=True)\n",
    "    return new_df"
   ]
  },
  {
   "cell_type": "code",
   "execution_count": 347,
   "metadata": {},
   "outputs": [],
   "source": [
    "regexes = [\"(?i).*full-stack.*\", \"(?i).*back-end.*\", \"(?i).*front-end.*\", \"(?i).*embedded.*\", \"(?i).*desktop.*\", \"(?i).*executive.*\", \"(?i).*devops.*\", \"(?i).*mobile.*\" ] "
   ]
  },
  {
   "cell_type": "code",
   "execution_count": 348,
   "metadata": {},
   "outputs": [],
   "source": [
    "words = [\"Full-stack\", \"Back-end\", \"Front-end\", \"Embedded\", \"Desktop\", \"Executive\", \"DevOps\", \"Mobile\"]"
   ]
  },
  {
   "cell_type": "code",
   "execution_count": 349,
   "metadata": {},
   "outputs": [],
   "source": [
    "standardized_data_df = standardize_developer_types(occupation_df, regexes, words)"
   ]
  },
  {
   "cell_type": "code",
   "execution_count": 363,
   "metadata": {},
   "outputs": [],
   "source": [
    "standardized_data_df.groupby([\"Year\", \"DeveloperType\"]).mean().sort_values(by=\"Percentage\", ascending=False).to_csv(\"test.csv\")"
   ]
  },
  {
   "cell_type": "code",
   "execution_count": null,
   "metadata": {},
   "outputs": [],
   "source": []
  }
 ],
 "metadata": {
  "kernelspec": {
   "display_name": "Python 3",
   "language": "python",
   "name": "python3"
  },
  "language_info": {
   "codemirror_mode": {
    "name": "ipython",
    "version": 3
   },
   "file_extension": ".py",
   "mimetype": "text/x-python",
   "name": "python",
   "nbconvert_exporter": "python",
   "pygments_lexer": "ipython3",
   "version": "3.7.7"
  }
 },
 "nbformat": 4,
 "nbformat_minor": 4
}
