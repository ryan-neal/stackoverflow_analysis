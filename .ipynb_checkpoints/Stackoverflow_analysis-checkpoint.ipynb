{
 "cells": [
  {
   "cell_type": "code",
   "execution_count": 186,
   "metadata": {},
   "outputs": [],
   "source": [
    "import pandas as pd\n",
    "import numpy as np\n",
    "import matplotlib.pyplot as plt\n",
    "import seaborn as sns\n",
    "from collections import defaultdict"
   ]
  },
  {
   "cell_type": "code",
   "execution_count": 187,
   "metadata": {},
   "outputs": [],
   "source": [
    "def create_year_dataframe(year):\n",
    "    df = pd.read_csv(\"survey_results_public_\" + str(year) + \".csv\", low_memory=False)\n",
    "    return df"
   ]
  },
  {
   "cell_type": "code",
   "execution_count": 188,
   "metadata": {},
   "outputs": [],
   "source": [
    "years_data = [2015, 2016, 2017, 2018, 2019]"
   ]
  },
  {
   "cell_type": "code",
   "execution_count": 189,
   "metadata": {},
   "outputs": [],
   "source": [
    "def create_all_dataframes(all_years):\n",
    "    dict_df = {}\n",
    "    for year in years_data:\n",
    "        dict_df[year] = create_year_dataframe(year)\n",
    "    return dict_df"
   ]
  },
  {
   "cell_type": "code",
   "execution_count": 190,
   "metadata": {},
   "outputs": [],
   "source": [
    "all_years = create_all_dataframes(years_data)"
   ]
  },
  {
   "cell_type": "code",
   "execution_count": 191,
   "metadata": {},
   "outputs": [],
   "source": [
    "#cleaning 2015 headers\n",
    "columns_2015 = all_years[2015].iloc[0]\n",
    "all_years[2015] = all_years[2015][1:]\n",
    "all_years[2015].columns = columns_2015"
   ]
  },
  {
   "cell_type": "code",
   "execution_count": 192,
   "metadata": {},
   "outputs": [],
   "source": [
    "def segment_by_column_and_value(df, column, value):\n",
    "    return df[df[column]==value]"
   ]
  },
  {
   "cell_type": "code",
   "execution_count": 193,
   "metadata": {},
   "outputs": [],
   "source": [
    "all_years[2016].rename(columns={\"country\":\"Country\"}, inplace=True)"
   ]
  },
  {
   "cell_type": "code",
   "execution_count": 194,
   "metadata": {},
   "outputs": [],
   "source": [
    "def create_column_df(df_dict, column, value):\n",
    "    dictionary = {}\n",
    "    for key in df_dict:\n",
    "        dictionary[key] = segment_by_column_and_value(df_dict[key], column, value)\n",
    "    return dictionary"
   ]
  },
  {
   "cell_type": "code",
   "execution_count": 195,
   "metadata": {},
   "outputs": [],
   "source": [
    "united_states = create_column_df(all_years, \"Country\", \"United States\")"
   ]
  },
  {
   "cell_type": "markdown",
   "metadata": {},
   "source": [
    "<H2> Question 1: How has the survey changed over the years? </h2>"
   ]
  },
  {
   "cell_type": "code",
   "execution_count": 196,
   "metadata": {},
   "outputs": [],
   "source": [
    "def get_yearly_shape(dictionary, year):\n",
    "    return dictionary[year].shape[0], dictionary[year].shape[1]"
   ]
  },
  {
   "cell_type": "code",
   "execution_count": 197,
   "metadata": {},
   "outputs": [],
   "source": [
    "def get_all_shapes(dictionary, years):\n",
    "    rows = []\n",
    "    columns = []\n",
    "    for year in years:\n",
    "        rows.append(get_yearly_shape(dictionary, year)[0])\n",
    "        columns.append(get_yearly_shape(dictionary, year)[1])\n",
    "    df = pd.DataFrame(list(zip(rows, columns, years)), columns=[\"NumberOfRespondents\", \"NumberOfQuestions\", \"Year\"])\n",
    "    return df\n",
    "        "
   ]
  },
  {
   "cell_type": "code",
   "execution_count": 198,
   "metadata": {},
   "outputs": [],
   "source": [
    "yearly_shapes = get_all_shapes(united_states, [2015, 2016, 2017, 2018, 2019])"
   ]
  },
  {
   "cell_type": "code",
   "execution_count": 199,
   "metadata": {},
   "outputs": [
    {
     "data": {
      "text/plain": [
       "<matplotlib.axes._subplots.AxesSubplot at 0x1220c39d0>"
      ]
     },
     "execution_count": 199,
     "metadata": {},
     "output_type": "execute_result"
    },
    {
     "data": {
      "image/png": "[encoded data removed]",
      "text/plain": [
       "<Figure size 432x288 with 1 Axes>"
      ]
     },
     "metadata": {
      "needs_background": "light"
     },
     "output_type": "display_data"
    }
   ],
   "source": [
    "sns.barplot(x=\"Year\", y=\"NumberOfRespondents\", data=yearly_shapes)"
   ]
  },
  {
   "cell_type": "code",
   "execution_count": 200,
   "metadata": {},
   "outputs": [
    {
     "data": {
      "text/plain": [
       "<matplotlib.axes._subplots.AxesSubplot at 0x143ad8950>"
      ]
     },
     "execution_count": 200,
     "metadata": {},
     "output_type": "execute_result"
    },
    {
     "data": {
      "image/png": "[encoded data removed]",
      "text/plain": [
       "<Figure size 432x288 with 1 Axes>"
      ]
     },
     "metadata": {
      "needs_background": "light"
     },
     "output_type": "display_data"
    }
   ],
   "source": [
    "sns.barplot(x=\"Year\", y=\"NumberOfQuestions\", data=yearly_shapes)"
   ]
  },
  {
   "cell_type": "code",
   "execution_count": 201,
   "metadata": {},
   "outputs": [
    {
     "data": {
      "text/plain": [
       "<matplotlib.axes._subplots.AxesSubplot at 0x143626990>"
      ]
     },
     "execution_count": 201,
     "metadata": {},
     "output_type": "execute_result"
    },
    {
     "data": {
      "image/png": "[encoded data removed]",
      "text/plain": [
       "<Figure size 432x288 with 1 Axes>"
      ]
     },
     "metadata": {
      "needs_background": "light"
     },
     "output_type": "display_data"
    }
   ],
   "source": [
    "sns.scatterplot(x=\"NumberOfRespondents\", y=\"NumberOfQuestions\", hue=\"Year\", data=yearly_shapes)"
   ]
  },
  {
   "cell_type": "markdown",
   "metadata": {},
   "source": [
    "<H2> Question 2: How have the most common occupations changed in the United States over the last 3 years </h2>"
   ]
  },
  {
   "cell_type": "code",
   "execution_count": 202,
   "metadata": {},
   "outputs": [],
   "source": [
    "def segment_by_column_and_value(df, column, value):\n",
    "    return df[df[column]==value]"
   ]
  },
  {
   "cell_type": "code",
   "execution_count": 203,
   "metadata": {},
   "outputs": [],
   "source": [
    "def create_value_df(df, year, column, column_name):\n",
    "    new_df = pd.DataFrame(df[year][column].value_counts()).reset_index()\n",
    "    new_df.columns=[column_name, \"Count\"]\n",
    "    new_df[\"Percentage\"] = new_df[\"Count\"]/sum(new_df[\"Count\"])\n",
    "    new_df = new_df.replace(\"(?i).*mobile.*\", \"Mobile\", regex=True)\n",
    "    new_df = new_df.groupby(\"DeveloperType\", as_index=False).sum()\n",
    "    new_df[\"Year\"] = year\n",
    "    new_df.sort_values(\"Percentage\", ascending=False, inplace=True)\n",
    "    return new_df"
   ]
  },
  {
   "cell_type": "code",
   "execution_count": 204,
   "metadata": {},
   "outputs": [],
   "source": [
    "def split_words(df, year, column, column_name):\n",
    "    all_the_words = defaultdict(int) \n",
    "    for row in df[year][column]:\n",
    "        if isinstance(row, float):\n",
    "            all_the_words[row] += 1\n",
    "        else:\n",
    "            for word in row.split(\";\"):\n",
    "                all_the_words[word.strip()] += 1\n",
    "    new_df = pd.DataFrame(pd.Series(all_the_words)).reset_index()\n",
    "    new_df.columns = [column_name, \"Count\"]\n",
    "    new_df[\"Percentage\"] = new_df[\"Count\"] / sum(new_df[\"Count\"])\n",
    "    new_df[\"Year\"] = year\n",
    "    new_df.sort_values('Percentage', ascending=False, inplace=True)\n",
    "    return new_df"
   ]
  },
  {
   "cell_type": "code",
   "execution_count": 205,
   "metadata": {},
   "outputs": [],
   "source": [
    "occupation_2015 = create_value_df(united_states, 2015, \"Occupation\", \"DeveloperType\")\n",
    "occupation_2016 = create_value_df(united_states, 2016, \"occupation\", \"DeveloperType\")\n",
    "#occupation_2017 = split_words(all_years, 2017, \"DeveloperType\", \"DeveloperType\")\n",
    "occupation_2018 = split_words(united_states, 2018, \"DevType\", \"DeveloperType\")\n",
    "occupation_2019 = split_words(united_states, 2019, \"DevType\", \"DeveloperType\")"
   ]
  },
  {
   "cell_type": "code",
   "execution_count": 206,
   "metadata": {},
   "outputs": [],
   "source": [
    "occupation_df = occupation_2015.append(occupation_2016).append(occupation_2018).append(occupation_2019)"
   ]
  },
  {
   "cell_type": "code",
   "execution_count": 207,
   "metadata": {},
   "outputs": [],
   "source": [
    "def standardize_developer_types(df, regexes, words):\n",
    "    new_df = df.replace(regexes, words, regex=True)\n",
    "    return new_df"
   ]
  },
  {
   "cell_type": "code",
   "execution_count": 208,
   "metadata": {},
   "outputs": [],
   "source": [
    "regexes = [\"(?i).*full-stack.*\", \"(?i).*back-end.*\", \"(?i).*front-end.*\", \"(?i).*embedded.*\", \"(?i).*desktop.*\", \"(?i).*executive.*\", \"(?i).*devops.*\", \"(?i).*mobile.*\" ] \n",
    "words = [\"Full-stack\", \"Back-end\", \"Front-end\", \"Embedded\", \"Desktop\", \"Executive\", \"DevOps\", \"Mobile\"]\n",
    "developer_types = [\"Full-stack\", \"Front-end\", \"Back-end\", \"Mobile\", \"Student\", \"Desktop\"]"
   ]
  },
  {
   "cell_type": "code",
   "execution_count": 209,
   "metadata": {},
   "outputs": [],
   "source": [
    "standardized_data_df = standardize_developer_types(occupation_df, regexes, words)"
   ]
  },
  {
   "cell_type": "code",
   "execution_count": 210,
   "metadata": {},
   "outputs": [],
   "source": [
    "graph_data = standardized_data_df[standardized_data_df[\"DeveloperType\"].isin(developer_types)]"
   ]
  },
  {
   "cell_type": "code",
   "execution_count": 211,
   "metadata": {},
   "outputs": [
    {
     "data": {
      "text/plain": [
       "<matplotlib.axes._subplots.AxesSubplot at 0x133fc4f10>"
      ]
     },
     "execution_count": 211,
     "metadata": {},
     "output_type": "execute_result"
    },
    {
     "data": {
      "image/png": "[encoded data removed]",
      "text/plain": [
       "<Figure size 432x288 with 1 Axes>"
      ]
     },
     "metadata": {
      "needs_background": "light"
     },
     "output_type": "display_data"
    }
   ],
   "source": [
    "sns.barplot(x=\"DeveloperType\", y=\"Percentage\", hue=\"Year\", data=graph_data)"
   ]
  },
  {
   "cell_type": "markdown",
   "metadata": {},
   "source": [
    "<h2> Question 3: What attributes affected American salaries most in 2019? </h2>"
   ]
  },
  {
   "cell_type": "code",
   "execution_count": 212,
   "metadata": {},
   "outputs": [
    {
     "data": {
      "text/plain": [
       "(20949, 85)"
      ]
     },
     "execution_count": 212,
     "metadata": {},
     "output_type": "execute_result"
    }
   ],
   "source": [
    "united_states[2019].shape[0], united_states[2019].shape[1]"
   ]
  },
  {
   "cell_type": "code",
   "execution_count": 213,
   "metadata": {},
   "outputs": [],
   "source": [
    "# There are 20,000 rows and 85 columns in 2019. Let's see what columns have missing data"
   ]
  },
  {
   "cell_type": "markdown",
   "metadata": {},
   "source": [
    "<h3> Data Understanding </h3>"
   ]
  },
  {
   "cell_type": "code",
   "execution_count": 214,
   "metadata": {},
   "outputs": [
    {
     "data": {
      "text/plain": [
       "0.28340254904768725"
      ]
     },
     "execution_count": 214,
     "metadata": {},
     "output_type": "execute_result"
    }
   ],
   "source": [
    "united_states[2019][\"CompTotal\"].isna().mean()"
   ]
  },
  {
   "cell_type": "code",
   "execution_count": 215,
   "metadata": {},
   "outputs": [],
   "source": [
    "#28 percent of the data is empty. Since CompTotal is our dependent variable, I'm going to drop all rows\n",
    "# without CompTotal from our analysis"
   ]
  },
  {
   "cell_type": "code",
   "execution_count": 216,
   "metadata": {},
   "outputs": [],
   "source": [
    "test_data = united_states[2019].dropna(subset=[\"CompTotal\"])"
   ]
  },
  {
   "cell_type": "code",
   "execution_count": 217,
   "metadata": {},
   "outputs": [],
   "source": [
    "missing_cols = set(test_data.columns[test_data.isna().mean()>.2])"
   ]
  },
  {
   "cell_type": "code",
   "execution_count": 218,
   "metadata": {},
   "outputs": [
    {
     "data": {
      "text/plain": [
       "{'BlockchainIs',\n",
       " 'BlockchainOrg',\n",
       " 'CodeRevHrs',\n",
       " 'DatabaseDesireNextYear',\n",
       " 'MiscTechDesireNextYear',\n",
       " 'MiscTechWorkedWith',\n",
       " 'SOHowMuchTime',\n",
       " 'SONewContent',\n",
       " 'WebFrameDesireNextYear',\n",
       " 'WebFrameWorkedWith'}"
      ]
     },
     "execution_count": 218,
     "metadata": {},
     "output_type": "execute_result"
    }
   ],
   "source": [
    "missing_cols"
   ]
  },
  {
   "cell_type": "code",
   "execution_count": 219,
   "metadata": {},
   "outputs": [],
   "source": [
    "#10 features are missing more than 20 percent of the data. Let's review them"
   ]
  },
  {
   "cell_type": "code",
   "execution_count": 220,
   "metadata": {},
   "outputs": [
    {
     "data": {
      "text/plain": [
       "3                                        Not at all\n",
       "12                                       Not at all\n",
       "21                                       Not at all\n",
       "22                                              NaN\n",
       "25                                       Not at all\n",
       "                            ...                    \n",
       "88312                                    Not at all\n",
       "88321                                           NaN\n",
       "88323                                           NaN\n",
       "88324    Implementing cryptocurrency-based products\n",
       "88325                                    Not at all\n",
       "Name: BlockchainOrg, Length: 15012, dtype: object"
      ]
     },
     "execution_count": 220,
     "metadata": {},
     "output_type": "execute_result"
    }
   ],
   "source": [
    "test_data[\"BlockchainOrg\"]"
   ]
  },
  {
   "cell_type": "code",
   "execution_count": 221,
   "metadata": {},
   "outputs": [],
   "source": [
    "#I'm going to convert this column to a categorical variable with NaNs as their own column"
   ]
  },
  {
   "cell_type": "code",
   "execution_count": 222,
   "metadata": {},
   "outputs": [],
   "source": [
    "#Let's checkout BlockchainIs next"
   ]
  },
  {
   "cell_type": "code",
   "execution_count": 223,
   "metadata": {},
   "outputs": [
    {
     "data": {
      "text/plain": [
       "3        Useful for decentralized currency (i.e., Bitcoin)\n",
       "12       Useful for decentralized currency (i.e., Bitcoin)\n",
       "21                                                     NaN\n",
       "22       Useful for immutable record keeping outside of...\n",
       "25                                           A passing fad\n",
       "                               ...                        \n",
       "88312                    An irresponsible use of resources\n",
       "88321                                                  NaN\n",
       "88323                                        A passing fad\n",
       "88324                    An irresponsible use of resources\n",
       "88325    Useful for decentralized currency (i.e., Bitcoin)\n",
       "Name: BlockchainIs, Length: 15012, dtype: object"
      ]
     },
     "execution_count": 223,
     "metadata": {},
     "output_type": "execute_result"
    }
   ],
   "source": [
    "test_data[\"BlockchainIs\"]"
   ]
  },
  {
   "cell_type": "code",
   "execution_count": 224,
   "metadata": {},
   "outputs": [],
   "source": [
    "# Will handles the same as BlockChainOrg"
   ]
  },
  {
   "cell_type": "code",
   "execution_count": 225,
   "metadata": {},
   "outputs": [
    {
     "data": {
      "text/plain": [
       "<matplotlib.axes._subplots.AxesSubplot at 0x143851310>"
      ]
     },
     "execution_count": 225,
     "metadata": {},
     "output_type": "execute_result"
    },
    {
     "data": {
      "image/png": "[encoded data removed]",
      "text/plain": [
       "<Figure size 432x288 with 1 Axes>"
      ]
     },
     "metadata": {
      "needs_background": "light"
     },
     "output_type": "display_data"
    }
   ],
   "source": [
    "test_data[\"CodeRevHrs\"].hist(bins=20)"
   ]
  },
  {
   "cell_type": "code",
   "execution_count": 226,
   "metadata": {},
   "outputs": [],
   "source": [
    "# The graph is right skewed, so I will fill NaNs with the median value"
   ]
  },
  {
   "cell_type": "code",
   "execution_count": 227,
   "metadata": {},
   "outputs": [
    {
     "data": {
      "text/plain": [
       "3                                            MySQL;SQLite\n",
       "12                                   Firebase;MySQL;Redis\n",
       "21                       Elasticsearch;MySQL;Oracle;Redis\n",
       "22       Couchbase;DynamoDB;Elasticsearch;Firebase;Oracle\n",
       "25                Microsoft SQL Server;MySQL;Redis;SQLite\n",
       "                               ...                       \n",
       "88312                         Firebase;MongoDB;PostgreSQL\n",
       "88321                                                 NaN\n",
       "88323                                            DynamoDB\n",
       "88324                                              Oracle\n",
       "88325                                          PostgreSQL\n",
       "Name: DatabaseDesireNextYear, Length: 15012, dtype: object"
      ]
     },
     "execution_count": 227,
     "metadata": {},
     "output_type": "execute_result"
    }
   ],
   "source": [
    "test_data['DatabaseDesireNextYear']"
   ]
  },
  {
   "cell_type": "code",
   "execution_count": 228,
   "metadata": {},
   "outputs": [],
   "source": [
    "# I'm going to convert this to a number of desired database to learn and dummy columns. \n",
    "# We will do the same with DevType\n",
    "# Nan will be a dummy variable and 0 "
   ]
  },
  {
   "cell_type": "code",
   "execution_count": 229,
   "metadata": {},
   "outputs": [
    {
     "data": {
      "text/plain": [
       "3                                                     .NET\n",
       "12                                      Node.js;TensorFlow\n",
       "21                                                 Node.js\n",
       "22                                 React Native;TensorFlow\n",
       "25                                  .NET;.NET Core;Node.js\n",
       "                               ...                        \n",
       "88312                                              Node.js\n",
       "88321                                                  NaN\n",
       "88323    Apache Spark;CryEngine;Hadoop;.NET;.NET Core;T...\n",
       "88324                                         Apache Spark\n",
       "88325                                              Node.js\n",
       "Name: MiscTechDesireNextYear, Length: 15012, dtype: object"
      ]
     },
     "execution_count": 229,
     "metadata": {},
     "output_type": "execute_result"
    }
   ],
   "source": [
    "test_data[\"MiscTechDesireNextYear\"]"
   ]
  },
  {
   "cell_type": "code",
   "execution_count": 230,
   "metadata": {},
   "outputs": [],
   "source": [
    "# Same as before"
   ]
  },
  {
   "cell_type": "code",
   "execution_count": 231,
   "metadata": {},
   "outputs": [
    {
     "data": {
      "text/plain": [
       "3                                          .NET\n",
       "12                              Node.js;Xamarin\n",
       "21                                      Node.js\n",
       "22                                          NaN\n",
       "25               .NET;.NET Core;Node.js;Xamarin\n",
       "                          ...                  \n",
       "88312                                   Node.js\n",
       "88321            Apache Spark;Pandas;TensorFlow\n",
       "88323    Apache Spark;Hadoop;.NET Core;Unity 3D\n",
       "88324                              Apache Spark\n",
       "88325                                   Node.js\n",
       "Name: MiscTechWorkedWith, Length: 15012, dtype: object"
      ]
     },
     "execution_count": 231,
     "metadata": {},
     "output_type": "execute_result"
    }
   ],
   "source": [
    "test_data['MiscTechWorkedWith']"
   ]
  },
  {
   "cell_type": "code",
   "execution_count": 232,
   "metadata": {},
   "outputs": [],
   "source": [
    "# Same as before"
   ]
  },
  {
   "cell_type": "code",
   "execution_count": 233,
   "metadata": {},
   "outputs": [
    {
     "data": {
      "text/plain": [
       "3        31-60 minutes\n",
       "12       11-30 minutes\n",
       "21        0-10 minutes\n",
       "22                 NaN\n",
       "25       11-30 minutes\n",
       "             ...      \n",
       "88312    11-30 minutes\n",
       "88321      60+ minutes\n",
       "88323      60+ minutes\n",
       "88324    11-30 minutes\n",
       "88325     0-10 minutes\n",
       "Name: SOHowMuchTime, Length: 15012, dtype: object"
      ]
     },
     "execution_count": 233,
     "metadata": {},
     "output_type": "execute_result"
    }
   ],
   "source": [
    "test_data[\"SOHowMuchTime\"]"
   ]
  },
  {
   "cell_type": "code",
   "execution_count": 234,
   "metadata": {},
   "outputs": [],
   "source": [
    "# will try categorical dummy variables"
   ]
  },
  {
   "cell_type": "code",
   "execution_count": 235,
   "metadata": {},
   "outputs": [
    {
     "data": {
      "text/plain": [
       "Tech articles written by other developers;Industry news about technologies you're interested in;Tech meetups or events in your area;Courses on technologies you're interested in    2077\n",
       "Tech articles written by other developers                                                                                                                                           1054\n",
       "Tech meetups or events in your area                                                                                                                                                  902\n",
       "Tech articles written by other developers;Industry news about technologies you're interested in                                                                                      814\n",
       "Tech articles written by other developers;Courses on technologies you're interested in                                                                                               802\n",
       "Courses on technologies you're interested in                                                                                                                                         796\n",
       "Tech meetups or events in your area;Courses on technologies you're interested in                                                                                                     770\n",
       "Tech articles written by other developers;Tech meetups or events in your area;Courses on technologies you're interested in                                                           734\n",
       "Tech articles written by other developers;Industry news about technologies you're interested in;Tech meetups or events in your area                                                  681\n",
       "Tech articles written by other developers;Tech meetups or events in your area                                                                                                        663\n",
       "Tech articles written by other developers;Industry news about technologies you're interested in;Courses on technologies you're interested in                                         635\n",
       "Industry news about technologies you're interested in;Tech meetups or events in your area                                                                                            280\n",
       "Industry news about technologies you're interested in                                                                                                                                230\n",
       "Industry news about technologies you're interested in;Courses on technologies you're interested in                                                                                   210\n",
       "Industry news about technologies you're interested in;Tech meetups or events in your area;Courses on technologies you're interested in                                               197\n",
       "Name: SONewContent, dtype: int64"
      ]
     },
     "execution_count": 235,
     "metadata": {},
     "output_type": "execute_result"
    }
   ],
   "source": [
    "test_data[\"SONewContent\"].value_counts()"
   ]
  },
  {
   "cell_type": "code",
   "execution_count": 236,
   "metadata": {},
   "outputs": [],
   "source": [
    "# same as databases"
   ]
  },
  {
   "cell_type": "code",
   "execution_count": 237,
   "metadata": {},
   "outputs": [
    {
     "data": {
      "text/plain": [
       "3                                               NaN\n",
       "12                                   Express;Vue.js\n",
       "21                 Angular/Angular.js;Ruby on Rails\n",
       "22            Express;React.js;Ruby on Rails;Vue.js\n",
       "25                       Angular/Angular.js;ASP.NET\n",
       "                            ...                    \n",
       "88312    Angular/Angular.js;Express;React.js;Vue.js\n",
       "88321                                           NaN\n",
       "88323                                           NaN\n",
       "88324                                     Other(s):\n",
       "88325                            React.js;Other(s):\n",
       "Name: WebFrameDesireNextYear, Length: 15012, dtype: object"
      ]
     },
     "execution_count": 237,
     "metadata": {},
     "output_type": "execute_result"
    }
   ],
   "source": [
    "test_data[\"WebFrameDesireNextYear\"]"
   ]
  },
  {
   "cell_type": "code",
   "execution_count": 238,
   "metadata": {},
   "outputs": [],
   "source": [
    "# same as databases"
   ]
  },
  {
   "cell_type": "code",
   "execution_count": 239,
   "metadata": {},
   "outputs": [
    {
     "data": {
      "text/plain": [
       "3                                                      NaN\n",
       "12        Angular/Angular.js;ASP.NET;Express;jQuery;Vue.js\n",
       "21                        Angular/Angular.js;Ruby on Rails\n",
       "22                                  React.js;Ruby on Rails\n",
       "25       Angular/Angular.js;ASP.NET;Drupal;Express;jQue...\n",
       "                               ...                        \n",
       "88312                           Angular/Angular.js;Express\n",
       "88321                                                  NaN\n",
       "88323                                                  NaN\n",
       "88324                                            Other(s):\n",
       "88325                                   React.js;Other(s):\n",
       "Name: WebFrameWorkedWith, Length: 15012, dtype: object"
      ]
     },
     "execution_count": 239,
     "metadata": {},
     "output_type": "execute_result"
    }
   ],
   "source": [
    "test_data[\"WebFrameWorkedWith\"]"
   ]
  },
  {
   "cell_type": "code",
   "execution_count": 240,
   "metadata": {},
   "outputs": [],
   "source": [
    "# same as database"
   ]
  },
  {
   "cell_type": "markdown",
   "metadata": {},
   "source": [
    "<h3> Preparing Data </h3>\n",
    "    \n",
    "   We need to convert the following to dummy columns\n",
    "    \n",
    "   <ul> \n",
    "   <li> WebFrameWorkedWith</li>\n",
    "   <li> DevType </li>\n",
    "   <li> WebFrameDesireNextYear </li>\n",
    "   <li> SONewContent </li>\n",
    "   <li> MiscTechWorkedWith </li>\n",
    "   <li> MiscTechDesireNextYear </li>\n",
    "   <li> DatabaseDesireNextYear</li>\n",
    "   </ul>  \n",
    "   \n",
    "   We need to fill empty values for the following\n",
    "   \n",
    "   <ul> \n",
    "    <li> BlockchainIs </li>\n",
    "    <li> BlockchainOrg </li>\n",
    "    <li> CodeRevHrs </li>\n",
    "    <li> SOHowMuchTime </li>\n",
    "   </ul>"
   ]
  },
  {
   "cell_type": "code",
   "execution_count": 241,
   "metadata": {},
   "outputs": [],
   "source": [
    "#First let's create number of skills columns for all the columns in the first group"
   ]
  },
  {
   "cell_type": "code",
   "execution_count": 242,
   "metadata": {},
   "outputs": [],
   "source": [
    "def create_number_of_skills(x):\n",
    "    if isinstance(x, str):\n",
    "        return len(x.split(';'))\n",
    "    return 0"
   ]
  },
  {
   "cell_type": "code",
   "execution_count": 243,
   "metadata": {},
   "outputs": [
    {
     "name": "stderr",
     "output_type": "stream",
     "text": [
      "/usr/local/lib/python3.7/site-packages/ipykernel_launcher.py:1: SettingWithCopyWarning: \n",
      "A value is trying to be set on a copy of a slice from a DataFrame.\n",
      "Try using .loc[row_indexer,col_indexer] = value instead\n",
      "\n",
      "See the caveats in the documentation: https://pandas.pydata.org/pandas-docs/stable/user_guide/indexing.html#returning-a-view-versus-a-copy\n",
      "  \"\"\"Entry point for launching an IPython kernel.\n",
      "/usr/local/lib/python3.7/site-packages/ipykernel_launcher.py:2: SettingWithCopyWarning: \n",
      "A value is trying to be set on a copy of a slice from a DataFrame.\n",
      "Try using .loc[row_indexer,col_indexer] = value instead\n",
      "\n",
      "See the caveats in the documentation: https://pandas.pydata.org/pandas-docs/stable/user_guide/indexing.html#returning-a-view-versus-a-copy\n",
      "  \n",
      "/usr/local/lib/python3.7/site-packages/ipykernel_launcher.py:3: SettingWithCopyWarning: \n",
      "A value is trying to be set on a copy of a slice from a DataFrame.\n",
      "Try using .loc[row_indexer,col_indexer] = value instead\n",
      "\n",
      "See the caveats in the documentation: https://pandas.pydata.org/pandas-docs/stable/user_guide/indexing.html#returning-a-view-versus-a-copy\n",
      "  This is separate from the ipykernel package so we can avoid doing imports until\n",
      "/usr/local/lib/python3.7/site-packages/ipykernel_launcher.py:4: SettingWithCopyWarning: \n",
      "A value is trying to be set on a copy of a slice from a DataFrame.\n",
      "Try using .loc[row_indexer,col_indexer] = value instead\n",
      "\n",
      "See the caveats in the documentation: https://pandas.pydata.org/pandas-docs/stable/user_guide/indexing.html#returning-a-view-versus-a-copy\n",
      "  after removing the cwd from sys.path.\n",
      "/usr/local/lib/python3.7/site-packages/ipykernel_launcher.py:5: SettingWithCopyWarning: \n",
      "A value is trying to be set on a copy of a slice from a DataFrame.\n",
      "Try using .loc[row_indexer,col_indexer] = value instead\n",
      "\n",
      "See the caveats in the documentation: https://pandas.pydata.org/pandas-docs/stable/user_guide/indexing.html#returning-a-view-versus-a-copy\n",
      "  \"\"\"\n",
      "/usr/local/lib/python3.7/site-packages/ipykernel_launcher.py:6: SettingWithCopyWarning: \n",
      "A value is trying to be set on a copy of a slice from a DataFrame.\n",
      "Try using .loc[row_indexer,col_indexer] = value instead\n",
      "\n",
      "See the caveats in the documentation: https://pandas.pydata.org/pandas-docs/stable/user_guide/indexing.html#returning-a-view-versus-a-copy\n",
      "  \n",
      "/usr/local/lib/python3.7/site-packages/ipykernel_launcher.py:7: SettingWithCopyWarning: \n",
      "A value is trying to be set on a copy of a slice from a DataFrame.\n",
      "Try using .loc[row_indexer,col_indexer] = value instead\n",
      "\n",
      "See the caveats in the documentation: https://pandas.pydata.org/pandas-docs/stable/user_guide/indexing.html#returning-a-view-versus-a-copy\n",
      "  import sys\n"
     ]
    }
   ],
   "source": [
    "test_data[\"NumberOfWebFramesWorkedWith\"] = test_data[\"WebFrameWorkedWith\"].apply(create_number_of_skills)\n",
    "test_data[\"NumberOfDevType\"] = test_data[\"DevType\"].apply(create_number_of_skills)\n",
    "test_data[\"NumberOfWebFrameDesireNextYear\"] = test_data[\"WebFrameDesireNextYear\"].apply(create_number_of_skills)\n",
    "test_data[\"NumberOfSONewContent\"] = test_data[\"SONewContent\"].apply(create_number_of_skills)\n",
    "test_data[\"NumberOfMiscTechWorkedWith\"] = test_data[\"MiscTechWorkedWith\"].apply(create_number_of_skills)\n",
    "test_data[\"NumberOfMiscTechDesireNextYear\"] = test_data[\"MiscTechDesireNextYear\"].apply(create_number_of_skills)\n",
    "test_data[\"NumberOfDatabaseDesireNextYear\"] = test_data[\"DatabaseDesireNextYear\"].apply(create_number_of_skills)"
   ]
  },
  {
   "cell_type": "code",
   "execution_count": 278,
   "metadata": {},
   "outputs": [],
   "source": [
    "def create_dummies(df, lst):\n",
    "    for item in lst:\n",
    "        print(item)\n",
    "        new_df = df[item].str.get_dummies(sep=\";\").add_prefix(item + \"_\")\n",
    "        df = df.join(new_df)\n",
    "    return df"
   ]
  },
  {
   "cell_type": "code",
   "execution_count": 245,
   "metadata": {},
   "outputs": [],
   "source": [
    "def get_possible_options(df, column):\n",
    "    lst = []\n",
    "    for row in df[column]:\n",
    "        if isinstance(row, str):\n",
    "            for item in row.split(';'):\n",
    "                if item not in lst:\n",
    "                    lst.append(item)\n",
    "    return lst"
   ]
  },
  {
   "cell_type": "code",
   "execution_count": 285,
   "metadata": {},
   "outputs": [],
   "source": [
    "needs_dummies = [\"WebFrameWorkedWith\", \"WebFrameDesireNextYear\", \"DevType\", \"SONewContent\", \"MiscTechWorkedWith\", \n",
    "                 \"MiscTechDesireNextYear\",\"DatabaseDesireNextYear\"]"
   ]
  },
  {
   "cell_type": "code",
   "execution_count": 286,
   "metadata": {},
   "outputs": [
    {
     "name": "stdout",
     "output_type": "stream",
     "text": [
      "WebFrameWorkedWith\n",
      "WebFrameDesireNextYear\n",
      "DevType\n",
      "SONewContent\n",
      "MiscTechWorkedWith\n",
      "MiscTechDesireNextYear\n",
      "DatabaseDesireNextYear\n"
     ]
    }
   ],
   "source": [
    "tst = create_dummies(test_data, needs_dummies)"
   ]
  },
  {
   "cell_type": "code",
   "execution_count": 288,
   "metadata": {},
   "outputs": [],
   "source": [
    "# Part 1 is done"
   ]
  },
  {
   "cell_type": "code",
   "execution_count": null,
   "metadata": {},
   "outputs": [],
   "source": []
  }
 ],
 "metadata": {
  "kernelspec": {
   "display_name": "Python 3",
   "language": "python",
   "name": "python3"
  },
  "language_info": {
   "codemirror_mode": {
    "name": "ipython",
    "version": 3
   },
   "file_extension": ".py",
   "mimetype": "text/x-python",
   "name": "python",
   "nbconvert_exporter": "python",
   "pygments_lexer": "ipython3",
   "version": "3.7.7"
  }
 },
 "nbformat": 4,
 "nbformat_minor": 4
}
